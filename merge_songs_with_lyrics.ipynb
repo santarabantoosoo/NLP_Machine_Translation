{
 "cells": [
  {
   "cell_type": "markdown",
   "id": "888fa092",
   "metadata": {},
   "source": [
    "# Aim \n",
    "> merge the datasets. One dataset with lyrics and the other with similar songs in pairs. I will merge based on title and artist. I aim to extract any pairs that have lyrics for both songs. \n",
    "\n",
    "If we want to further enlarge the dataset, we can accept more songs from the 5 M datasets. In addition, we can include more pairs. i.e. each song has multiples of similar songs, we have only chosen a single similar song. \n"
   ]
  },
  {
   "cell_type": "code",
   "execution_count": 61,
   "id": "ee441ce0",
   "metadata": {
    "ExecuteTime": {
     "end_time": "2022-12-06T20:56:08.374491Z",
     "start_time": "2022-12-06T20:56:06.973376Z"
    }
   },
   "outputs": [],
   "source": [
    "import pandas as pd \n",
    "import seaborn as sns "
   ]
  },
  {
   "cell_type": "code",
   "execution_count": 47,
   "id": "c66bea97",
   "metadata": {
    "ExecuteTime": {
     "end_time": "2022-12-06T20:55:43.676511Z",
     "start_time": "2022-12-06T20:55:41.990727Z"
    }
   },
   "outputs": [],
   "source": [
    "song_pairs = pd.read_csv(\"full_songs_pairs.csv\")"
   ]
  },
  {
   "cell_type": "code",
   "execution_count": 48,
   "id": "7c439279",
   "metadata": {
    "ExecuteTime": {
     "end_time": "2022-12-06T20:55:43.691578Z",
     "start_time": "2022-12-06T20:55:43.678744Z"
    }
   },
   "outputs": [
    {
     "data": {
      "text/html": [
       "<div>\n",
       "<style scoped>\n",
       "    .dataframe tbody tr th:only-of-type {\n",
       "        vertical-align: middle;\n",
       "    }\n",
       "\n",
       "    .dataframe tbody tr th {\n",
       "        vertical-align: top;\n",
       "    }\n",
       "\n",
       "    .dataframe thead th {\n",
       "        text-align: right;\n",
       "    }\n",
       "</style>\n",
       "<table border=\"1\" class=\"dataframe\">\n",
       "  <thead>\n",
       "    <tr style=\"text-align: right;\">\n",
       "      <th></th>\n",
       "      <th>track1_id</th>\n",
       "      <th>track2_id</th>\n",
       "      <th>score</th>\n",
       "      <th>track1_title</th>\n",
       "      <th>track1_artist_name</th>\n",
       "      <th>track1_year</th>\n",
       "      <th>track2_title</th>\n",
       "      <th>track2_artist_name</th>\n",
       "      <th>track2_year</th>\n",
       "    </tr>\n",
       "  </thead>\n",
       "  <tbody>\n",
       "    <tr>\n",
       "      <th>0</th>\n",
       "      <td>TRCCCYE12903CFF0E9</td>\n",
       "      <td>TRZQUEN12903CBFFBB</td>\n",
       "      <td>0.400000</td>\n",
       "      <td>Brandenburger</td>\n",
       "      <td>The Nice</td>\n",
       "      <td>1991</td>\n",
       "      <td>Pirates</td>\n",
       "      <td>Emerson_ Lake &amp; Palmer</td>\n",
       "      <td>1977.0</td>\n",
       "    </tr>\n",
       "    <tr>\n",
       "      <th>1</th>\n",
       "      <td>TRCCCPM12903CBEEE5</td>\n",
       "      <td>TRWVNWV12903CBEEE7</td>\n",
       "      <td>0.523805</td>\n",
       "      <td>A Little More Love</td>\n",
       "      <td>T-Connection</td>\n",
       "      <td>2002</td>\n",
       "      <td>Party Night</td>\n",
       "      <td>T-Connection</td>\n",
       "      <td>2002.0</td>\n",
       "    </tr>\n",
       "    <tr>\n",
       "      <th>2</th>\n",
       "      <td>TRCCCFH12903CEBC70</td>\n",
       "      <td>TRTVJGV128F424A147</td>\n",
       "      <td>0.600000</td>\n",
       "      <td>Baby Please Come Home</td>\n",
       "      <td>Memphis Slim</td>\n",
       "      <td>0</td>\n",
       "      <td>Blue Shadows</td>\n",
       "      <td>Lowell Fulson</td>\n",
       "      <td>1960.0</td>\n",
       "    </tr>\n",
       "    <tr>\n",
       "      <th>3</th>\n",
       "      <td>TRCCCJT128F429FFF6</td>\n",
       "      <td>TRYVKKD12903CEB9E2</td>\n",
       "      <td>1.000000</td>\n",
       "      <td>Bonjour ca va</td>\n",
       "      <td>Middle Of The Road</td>\n",
       "      <td>1999</td>\n",
       "      <td>Everybody Loves a Winner</td>\n",
       "      <td>Middle Of The Road</td>\n",
       "      <td>1992.0</td>\n",
       "    </tr>\n",
       "    <tr>\n",
       "      <th>4</th>\n",
       "      <td>TRCCCBJ128F4286E6F</td>\n",
       "      <td>TRMMPCY128F4253A20</td>\n",
       "      <td>0.990676</td>\n",
       "      <td>The Sun Road</td>\n",
       "      <td>Terry Bozzio</td>\n",
       "      <td>0</td>\n",
       "      <td>Bone And Flesh</td>\n",
       "      <td>Tony Levin</td>\n",
       "      <td>2000.0</td>\n",
       "    </tr>\n",
       "  </tbody>\n",
       "</table>\n",
       "</div>"
      ],
      "text/plain": [
       "            track1_id           track2_id     score           track1_title  \\\n",
       "0  TRCCCYE12903CFF0E9  TRZQUEN12903CBFFBB  0.400000          Brandenburger   \n",
       "1  TRCCCPM12903CBEEE5  TRWVNWV12903CBEEE7  0.523805     A Little More Love   \n",
       "2  TRCCCFH12903CEBC70  TRTVJGV128F424A147  0.600000  Baby Please Come Home   \n",
       "3  TRCCCJT128F429FFF6  TRYVKKD12903CEB9E2  1.000000          Bonjour ca va   \n",
       "4  TRCCCBJ128F4286E6F  TRMMPCY128F4253A20  0.990676           The Sun Road   \n",
       "\n",
       "   track1_artist_name  track1_year              track2_title  \\\n",
       "0            The Nice         1991                   Pirates   \n",
       "1        T-Connection         2002               Party Night   \n",
       "2        Memphis Slim            0              Blue Shadows   \n",
       "3  Middle Of The Road         1999  Everybody Loves a Winner   \n",
       "4        Terry Bozzio            0            Bone And Flesh   \n",
       "\n",
       "       track2_artist_name  track2_year  \n",
       "0  Emerson_ Lake & Palmer       1977.0  \n",
       "1            T-Connection       2002.0  \n",
       "2           Lowell Fulson       1960.0  \n",
       "3      Middle Of The Road       1992.0  \n",
       "4              Tony Levin       2000.0  "
      ]
     },
     "execution_count": 48,
     "metadata": {},
     "output_type": "execute_result"
    }
   ],
   "source": [
    "song_pairs.head()"
   ]
  },
  {
   "cell_type": "code",
   "execution_count": 49,
   "id": "a7ef648b",
   "metadata": {
    "ExecuteTime": {
     "end_time": "2022-12-06T20:55:45.502822Z",
     "start_time": "2022-12-06T20:55:43.693429Z"
    }
   },
   "outputs": [],
   "source": [
    "df = pd.read_csv(\"data10k.csv\")"
   ]
  },
  {
   "cell_type": "code",
   "execution_count": 50,
   "id": "73887a51",
   "metadata": {
    "ExecuteTime": {
     "end_time": "2022-12-06T20:55:45.514086Z",
     "start_time": "2022-12-06T20:55:45.509438Z"
    }
   },
   "outputs": [
    {
     "data": {
      "text/plain": [
       "((59305, 9), (584897, 9))"
      ]
     },
     "execution_count": 50,
     "metadata": {},
     "output_type": "execute_result"
    }
   ],
   "source": [
    "df.shape, song_pairs.shape"
   ]
  },
  {
   "cell_type": "code",
   "execution_count": 51,
   "id": "6afb0cd0",
   "metadata": {
    "ExecuteTime": {
     "end_time": "2022-12-06T20:55:45.967300Z",
     "start_time": "2022-12-06T20:55:45.515966Z"
    }
   },
   "outputs": [],
   "source": [
    "merge1 = song_pairs.merge(df, how = 'inner', left_on = [\"track1_title\", \"track1_artist_name\"],  right_on = [\"title\", \"artist\"])"
   ]
  },
  {
   "cell_type": "code",
   "execution_count": 52,
   "id": "166d0925",
   "metadata": {
    "ExecuteTime": {
     "end_time": "2022-12-06T20:55:45.987200Z",
     "start_time": "2022-12-06T20:55:45.971396Z"
    }
   },
   "outputs": [],
   "source": [
    "merge1 = merge1[['track1_title', 'track1_artist_name', 'track2_title', 'track2_artist_name', 'lyrics', 'score']]"
   ]
  },
  {
   "cell_type": "code",
   "execution_count": 53,
   "id": "2643b0bf",
   "metadata": {
    "ExecuteTime": {
     "end_time": "2022-12-06T20:55:46.027703Z",
     "start_time": "2022-12-06T20:55:45.989811Z"
    }
   },
   "outputs": [],
   "source": [
    "merge2 = merge1.merge(df, how = 'inner', left_on = [\"track2_title\", \"track2_artist_name\"],  right_on = [\"title\", \"artist\"])"
   ]
  },
  {
   "cell_type": "code",
   "execution_count": 54,
   "id": "b5ee871a",
   "metadata": {
    "ExecuteTime": {
     "end_time": "2022-12-06T20:55:46.037155Z",
     "start_time": "2022-12-06T20:55:46.029912Z"
    }
   },
   "outputs": [],
   "source": [
    "merge2 = merge2[['track1_title', 'track1_artist_name', 'track2_title', 'track2_artist_name', 'lyrics_x', \"lyrics_y\", \"score\" ]]"
   ]
  },
  {
   "cell_type": "code",
   "execution_count": 55,
   "id": "317b448a",
   "metadata": {
    "ExecuteTime": {
     "end_time": "2022-12-06T20:55:46.047545Z",
     "start_time": "2022-12-06T20:55:46.039317Z"
    }
   },
   "outputs": [],
   "source": [
    "merge2 = merge2.drop_duplicates(subset = ['track1_title', 'track1_artist_name'])"
   ]
  },
  {
   "cell_type": "code",
   "execution_count": 56,
   "id": "2b06564c",
   "metadata": {
    "ExecuteTime": {
     "end_time": "2022-12-06T20:55:46.059480Z",
     "start_time": "2022-12-06T20:55:46.051794Z"
    }
   },
   "outputs": [],
   "source": [
    "merge2 = merge2.drop_duplicates(subset = ['track2_title', 'track2_artist_name'])"
   ]
  },
  {
   "cell_type": "code",
   "execution_count": 57,
   "id": "2302bc35",
   "metadata": {
    "ExecuteTime": {
     "end_time": "2022-12-06T20:55:46.065560Z",
     "start_time": "2022-12-06T20:55:46.061404Z"
    }
   },
   "outputs": [
    {
     "data": {
      "text/plain": [
       "(1494, 7)"
      ]
     },
     "execution_count": 57,
     "metadata": {},
     "output_type": "execute_result"
    }
   ],
   "source": [
    "merge2.shape"
   ]
  },
  {
   "cell_type": "code",
   "execution_count": 58,
   "id": "2f863370",
   "metadata": {
    "ExecuteTime": {
     "end_time": "2022-12-06T20:55:46.077473Z",
     "start_time": "2022-12-06T20:55:46.068283Z"
    }
   },
   "outputs": [],
   "source": [
    "merge_clean = merge2.query('track1_title != track2_title') # to remove duplicates "
   ]
  },
  {
   "cell_type": "code",
   "execution_count": 59,
   "id": "54ed0788",
   "metadata": {
    "ExecuteTime": {
     "end_time": "2022-12-06T20:55:46.086230Z",
     "start_time": "2022-12-06T20:55:46.079483Z"
    }
   },
   "outputs": [
    {
     "data": {
      "text/plain": [
       "(1490, 7)"
      ]
     },
     "execution_count": 59,
     "metadata": {},
     "output_type": "execute_result"
    }
   ],
   "source": [
    "merge_clean.shape"
   ]
  },
  {
   "cell_type": "code",
   "execution_count": 60,
   "id": "00b1fe62",
   "metadata": {
    "ExecuteTime": {
     "end_time": "2022-12-06T20:55:46.103343Z",
     "start_time": "2022-12-06T20:55:46.089197Z"
    }
   },
   "outputs": [
    {
     "data": {
      "text/html": [
       "<div>\n",
       "<style scoped>\n",
       "    .dataframe tbody tr th:only-of-type {\n",
       "        vertical-align: middle;\n",
       "    }\n",
       "\n",
       "    .dataframe tbody tr th {\n",
       "        vertical-align: top;\n",
       "    }\n",
       "\n",
       "    .dataframe thead th {\n",
       "        text-align: right;\n",
       "    }\n",
       "</style>\n",
       "<table border=\"1\" class=\"dataframe\">\n",
       "  <thead>\n",
       "    <tr style=\"text-align: right;\">\n",
       "      <th></th>\n",
       "      <th>track1_title</th>\n",
       "      <th>track1_artist_name</th>\n",
       "      <th>track2_title</th>\n",
       "      <th>track2_artist_name</th>\n",
       "      <th>lyrics_x</th>\n",
       "      <th>lyrics_y</th>\n",
       "      <th>score</th>\n",
       "    </tr>\n",
       "  </thead>\n",
       "  <tbody>\n",
       "    <tr>\n",
       "      <th>0</th>\n",
       "      <td>We Will Rock You</td>\n",
       "      <td>Queen</td>\n",
       "      <td>Walk This Way</td>\n",
       "      <td>Aerosmith</td>\n",
       "      <td>\\nBuddy, you're a boy, make a big noise\\nPlayi...</td>\n",
       "      <td>\\n\\n\\nBackstroking lover, always hiding 'neath...</td>\n",
       "      <td>0.100000</td>\n",
       "    </tr>\n",
       "    <tr>\n",
       "      <th>8</th>\n",
       "      <td>One Love</td>\n",
       "      <td>Nas</td>\n",
       "      <td>Bring Da Ruckus</td>\n",
       "      <td>Wu-Tang Clan</td>\n",
       "      <td>\\n\\n\\nWhat up, kid? I know shit is rough doin'...</td>\n",
       "      <td>\\n“Shaolin shadowboxing and the Wu-Tang sword ...</td>\n",
       "      <td>0.100000</td>\n",
       "    </tr>\n",
       "    <tr>\n",
       "      <th>12</th>\n",
       "      <td>Love Me</td>\n",
       "      <td>Justin Bieber</td>\n",
       "      <td>Common Denominator</td>\n",
       "      <td>Justin Bieber</td>\n",
       "      <td>\\nMy friends say I'm a fool to think that you'...</td>\n",
       "      <td>\\nJust a fraction of your love fills the air\\n...</td>\n",
       "      <td>0.845078</td>\n",
       "    </tr>\n",
       "    <tr>\n",
       "      <th>14</th>\n",
       "      <td>Conteo</td>\n",
       "      <td>Don Omar</td>\n",
       "      <td>Virtual Diva</td>\n",
       "      <td>Don Omar</td>\n",
       "      <td>\\n\\n\\nYou know, haha\\nKing of Kings\\nIt is wha...</td>\n",
       "      <td>\\n\\n\\n\\n\\nD-D-D-, D.O.!\\nDiesel!\\n‎iDon!\\n\\n\\n...</td>\n",
       "      <td>0.600000</td>\n",
       "    </tr>\n",
       "    <tr>\n",
       "      <th>16</th>\n",
       "      <td>Breakthru</td>\n",
       "      <td>Queen</td>\n",
       "      <td>The Great Pretender</td>\n",
       "      <td>Freddie Mercury</td>\n",
       "      <td>\\nWhen love breaks up, (Breaks up)\\nWhen the d...</td>\n",
       "      <td>\\nOh yes, I'm the great pretender (Woo-woo)\\nP...</td>\n",
       "      <td>0.200000</td>\n",
       "    </tr>\n",
       "  </tbody>\n",
       "</table>\n",
       "</div>"
      ],
      "text/plain": [
       "        track1_title track1_artist_name         track2_title  \\\n",
       "0   We Will Rock You              Queen        Walk This Way   \n",
       "8           One Love                Nas      Bring Da Ruckus   \n",
       "12           Love Me      Justin Bieber   Common Denominator   \n",
       "14            Conteo           Don Omar         Virtual Diva   \n",
       "16         Breakthru              Queen  The Great Pretender   \n",
       "\n",
       "   track2_artist_name                                           lyrics_x  \\\n",
       "0           Aerosmith  \\nBuddy, you're a boy, make a big noise\\nPlayi...   \n",
       "8        Wu-Tang Clan  \\n\\n\\nWhat up, kid? I know shit is rough doin'...   \n",
       "12      Justin Bieber  \\nMy friends say I'm a fool to think that you'...   \n",
       "14           Don Omar  \\n\\n\\nYou know, haha\\nKing of Kings\\nIt is wha...   \n",
       "16    Freddie Mercury  \\nWhen love breaks up, (Breaks up)\\nWhen the d...   \n",
       "\n",
       "                                             lyrics_y     score  \n",
       "0   \\n\\n\\nBackstroking lover, always hiding 'neath...  0.100000  \n",
       "8   \\n“Shaolin shadowboxing and the Wu-Tang sword ...  0.100000  \n",
       "12  \\nJust a fraction of your love fills the air\\n...  0.845078  \n",
       "14  \\n\\n\\n\\n\\nD-D-D-, D.O.!\\nDiesel!\\n‎iDon!\\n\\n\\n...  0.600000  \n",
       "16  \\nOh yes, I'm the great pretender (Woo-woo)\\nP...  0.200000  "
      ]
     },
     "execution_count": 60,
     "metadata": {},
     "output_type": "execute_result"
    }
   ],
   "source": [
    "merge_clean.head()"
   ]
  },
  {
   "cell_type": "code",
   "execution_count": 64,
   "id": "01e528d1",
   "metadata": {
    "ExecuteTime": {
     "end_time": "2022-12-06T20:56:31.540561Z",
     "start_time": "2022-12-06T20:56:31.380079Z"
    }
   },
   "outputs": [
    {
     "data": {
      "image/png": "[encoded data removed]",
      "text/plain": [
       "<Figure size 432x288 with 1 Axes>"
      ]
     },
     "metadata": {
      "needs_background": "light"
     },
     "output_type": "display_data"
    }
   ],
   "source": [
    "sns.histplot(data = merge_clean, x = 'score');"
   ]
  },
  {
   "cell_type": "code",
   "execution_count": 66,
   "id": "ca84f3e7",
   "metadata": {
    "ExecuteTime": {
     "end_time": "2022-12-06T20:57:04.399813Z",
     "start_time": "2022-12-06T20:57:04.382143Z"
    }
   },
   "outputs": [
    {
     "data": {
      "text/html": [
       "<div>\n",
       "<style scoped>\n",
       "    .dataframe tbody tr th:only-of-type {\n",
       "        vertical-align: middle;\n",
       "    }\n",
       "\n",
       "    .dataframe tbody tr th {\n",
       "        vertical-align: top;\n",
       "    }\n",
       "\n",
       "    .dataframe thead th {\n",
       "        text-align: right;\n",
       "    }\n",
       "</style>\n",
       "<table border=\"1\" class=\"dataframe\">\n",
       "  <thead>\n",
       "    <tr style=\"text-align: right;\">\n",
       "      <th></th>\n",
       "      <th>track1_title</th>\n",
       "      <th>track1_artist_name</th>\n",
       "      <th>track2_title</th>\n",
       "      <th>track2_artist_name</th>\n",
       "      <th>lyrics_x</th>\n",
       "      <th>lyrics_y</th>\n",
       "      <th>score</th>\n",
       "    </tr>\n",
       "  </thead>\n",
       "  <tbody>\n",
       "    <tr>\n",
       "      <th>19</th>\n",
       "      <td>I Got You Babe</td>\n",
       "      <td>Sonny &amp; Cher</td>\n",
       "      <td>The Beat Goes On</td>\n",
       "      <td>Sonny &amp; Cher</td>\n",
       "      <td>\\nThey say we're young and we don't know\\nWe w...</td>\n",
       "      <td>\\nThe beat goes on\\nThe beat goes on\\n\\n\\nDrum...</td>\n",
       "      <td>1.0</td>\n",
       "    </tr>\n",
       "    <tr>\n",
       "      <th>24</th>\n",
       "      <td>The Purple People Eater</td>\n",
       "      <td>Sheb Wooley</td>\n",
       "      <td>Witch Doctor</td>\n",
       "      <td>David Seville</td>\n",
       "      <td>AAAAAHHHH!!!!!!!!!\\n\\nWell, I saw the thing co...</td>\n",
       "      <td>I told the witch doctor I was in love with you...</td>\n",
       "      <td>1.0</td>\n",
       "    </tr>\n",
       "    <tr>\n",
       "      <th>34</th>\n",
       "      <td>Break Stuff</td>\n",
       "      <td>Limp Bizkit</td>\n",
       "      <td>Nookie</td>\n",
       "      <td>Limp Bizkit</td>\n",
       "      <td>\\nIt's just one of those days when you don't w...</td>\n",
       "      <td>\\nCheck, one, one, two\\n\\n\\nI came into this w...</td>\n",
       "      <td>1.0</td>\n",
       "    </tr>\n",
       "    <tr>\n",
       "      <th>60</th>\n",
       "      <td>I Love Your Smile</td>\n",
       "      <td>Shanice</td>\n",
       "      <td>Sensitivity</td>\n",
       "      <td>Ralph Tresvant</td>\n",
       "      <td>\\nSitting in my class\\nJust drifting away\\nSta...</td>\n",
       "      <td>\\nListen baby, don't even waste your tears on ...</td>\n",
       "      <td>1.0</td>\n",
       "    </tr>\n",
       "    <tr>\n",
       "      <th>67</th>\n",
       "      <td>Love Come Down</td>\n",
       "      <td>Evelyn \"Champagne\" King</td>\n",
       "      <td>Automatic</td>\n",
       "      <td>The Pointer Sisters</td>\n",
       "      <td>\\nLove come down\\nAll the way down\\n\\n\\nNo sle...</td>\n",
       "      <td>\\nLook what you're doing to me\\nI'm utterly at...</td>\n",
       "      <td>1.0</td>\n",
       "    </tr>\n",
       "    <tr>\n",
       "      <th>...</th>\n",
       "      <td>...</td>\n",
       "      <td>...</td>\n",
       "      <td>...</td>\n",
       "      <td>...</td>\n",
       "      <td>...</td>\n",
       "      <td>...</td>\n",
       "      <td>...</td>\n",
       "    </tr>\n",
       "    <tr>\n",
       "      <th>3422</th>\n",
       "      <td>Reminiscing</td>\n",
       "      <td>Little River Band</td>\n",
       "      <td>Lady</td>\n",
       "      <td>Little River Band</td>\n",
       "      <td>\\nFriday night, it was late\\nI was walking you...</td>\n",
       "      <td>Look around you, look up here\\nTake time to ma...</td>\n",
       "      <td>1.0</td>\n",
       "    </tr>\n",
       "    <tr>\n",
       "      <th>3424</th>\n",
       "      <td>Peg</td>\n",
       "      <td>Steely Dan</td>\n",
       "      <td>Deacon Blues</td>\n",
       "      <td>Steely Dan</td>\n",
       "      <td>\\n\\n\\nI've seen your picture\\nYour name in lig...</td>\n",
       "      <td>\\nThis is the day\\nOf the expanding man\\nThat ...</td>\n",
       "      <td>1.0</td>\n",
       "    </tr>\n",
       "    <tr>\n",
       "      <th>3425</th>\n",
       "      <td>Crazier</td>\n",
       "      <td>Taylor Swift</td>\n",
       "      <td>Jump Then Fall</td>\n",
       "      <td>Taylor Swift</td>\n",
       "      <td>\\nI'd never gone with the wind, just let it fl...</td>\n",
       "      <td>\\nI like the way you sound in the morning\\nWe'...</td>\n",
       "      <td>1.0</td>\n",
       "    </tr>\n",
       "    <tr>\n",
       "      <th>3432</th>\n",
       "      <td>Conga</td>\n",
       "      <td>Miami Sound Machine</td>\n",
       "      <td>Footloose</td>\n",
       "      <td>Kenny Loggins</td>\n",
       "      <td>\\nCome on, shake your body, baby, do the conga...</td>\n",
       "      <td>\\nBeen working so hard\\nI'm punching my card\\n...</td>\n",
       "      <td>1.0</td>\n",
       "    </tr>\n",
       "    <tr>\n",
       "      <th>3444</th>\n",
       "      <td>La Grange</td>\n",
       "      <td>ZZ Top</td>\n",
       "      <td>Tush</td>\n",
       "      <td>ZZ Top</td>\n",
       "      <td>\\nRumor spreadin' 'round in that Texas town\\nA...</td>\n",
       "      <td>\\nYeah!\\n\\n\\nI been up, I been down\\nTake my w...</td>\n",
       "      <td>1.0</td>\n",
       "    </tr>\n",
       "  </tbody>\n",
       "</table>\n",
       "<p>390 rows × 7 columns</p>\n",
       "</div>"
      ],
      "text/plain": [
       "                 track1_title       track1_artist_name      track2_title  \\\n",
       "19             I Got You Babe             Sonny & Cher  The Beat Goes On   \n",
       "24    The Purple People Eater              Sheb Wooley      Witch Doctor   \n",
       "34                Break Stuff              Limp Bizkit            Nookie   \n",
       "60          I Love Your Smile                  Shanice       Sensitivity   \n",
       "67             Love Come Down  Evelyn \"Champagne\" King         Automatic   \n",
       "...                       ...                      ...               ...   \n",
       "3422              Reminiscing        Little River Band              Lady   \n",
       "3424                      Peg               Steely Dan      Deacon Blues   \n",
       "3425                  Crazier             Taylor Swift    Jump Then Fall   \n",
       "3432                    Conga      Miami Sound Machine         Footloose   \n",
       "3444                La Grange                   ZZ Top              Tush   \n",
       "\n",
       "       track2_artist_name                                           lyrics_x  \\\n",
       "19           Sonny & Cher  \\nThey say we're young and we don't know\\nWe w...   \n",
       "24          David Seville  AAAAAHHHH!!!!!!!!!\\n\\nWell, I saw the thing co...   \n",
       "34            Limp Bizkit  \\nIt's just one of those days when you don't w...   \n",
       "60         Ralph Tresvant  \\nSitting in my class\\nJust drifting away\\nSta...   \n",
       "67    The Pointer Sisters  \\nLove come down\\nAll the way down\\n\\n\\nNo sle...   \n",
       "...                   ...                                                ...   \n",
       "3422    Little River Band  \\nFriday night, it was late\\nI was walking you...   \n",
       "3424           Steely Dan  \\n\\n\\nI've seen your picture\\nYour name in lig...   \n",
       "3425         Taylor Swift  \\nI'd never gone with the wind, just let it fl...   \n",
       "3432        Kenny Loggins  \\nCome on, shake your body, baby, do the conga...   \n",
       "3444               ZZ Top  \\nRumor spreadin' 'round in that Texas town\\nA...   \n",
       "\n",
       "                                               lyrics_y  score  \n",
       "19    \\nThe beat goes on\\nThe beat goes on\\n\\n\\nDrum...    1.0  \n",
       "24    I told the witch doctor I was in love with you...    1.0  \n",
       "34    \\nCheck, one, one, two\\n\\n\\nI came into this w...    1.0  \n",
       "60    \\nListen baby, don't even waste your tears on ...    1.0  \n",
       "67    \\nLook what you're doing to me\\nI'm utterly at...    1.0  \n",
       "...                                                 ...    ...  \n",
       "3422  Look around you, look up here\\nTake time to ma...    1.0  \n",
       "3424  \\nThis is the day\\nOf the expanding man\\nThat ...    1.0  \n",
       "3425  \\nI like the way you sound in the morning\\nWe'...    1.0  \n",
       "3432  \\nBeen working so hard\\nI'm punching my card\\n...    1.0  \n",
       "3444  \\nYeah!\\n\\n\\nI been up, I been down\\nTake my w...    1.0  \n",
       "\n",
       "[390 rows x 7 columns]"
      ]
     },
     "execution_count": 66,
     "metadata": {},
     "output_type": "execute_result"
    }
   ],
   "source": [
    "merge_clean.query('score == 1')"
   ]
  },
  {
   "cell_type": "markdown",
   "id": "e5f0673a",
   "metadata": {},
   "source": [
    "There are many entries with a score of 1. They don't seem like duplicates. But that's strange. "
   ]
  },
  {
   "cell_type": "code",
   "execution_count": 67,
   "id": "05d350c5",
   "metadata": {
    "ExecuteTime": {
     "end_time": "2022-12-06T20:58:41.422335Z",
     "start_time": "2022-12-06T20:58:41.273261Z"
    }
   },
   "outputs": [],
   "source": [
    "merge_clean.to_csv('song_pairs_lyrics.csv', index = False)"
   ]
  },
  {
   "cell_type": "code",
   "execution_count": null,
   "id": "50f816a9",
   "metadata": {},
   "outputs": [],
   "source": []
  }
 ],
 "metadata": {
  "kernelspec": {
   "display_name": "Python 3 (ipykernel)",
   "language": "python",
   "name": "python3"
  },
  "language_info": {
   "codemirror_mode": {
    "name": "ipython",
    "version": 3
   },
   "file_extension": ".py",
   "mimetype": "text/x-python",
   "name": "python",
   "nbconvert_exporter": "python",
   "pygments_lexer": "ipython3",
   "version": "3.8.13"
  },
  "toc": {
   "base_numbering": 1,
   "nav_menu": {},
   "number_sections": true,
   "sideBar": true,
   "skip_h1_title": false,
   "title_cell": "Table of Contents",
   "title_sidebar": "Contents",
   "toc_cell": false,
   "toc_position": {},
   "toc_section_display": true,
   "toc_window_display": false
  },
  "varInspector": {
   "cols": {
    "lenName": 16,
    "lenType": 16,
    "lenVar": 40
   },
   "kernels_config": {
    "python": {
     "delete_cmd_postfix": "",
     "delete_cmd_prefix": "del ",
     "library": "var_list.py",
     "varRefreshCmd": "print(var_dic_list())"
    },
    "r": {
     "delete_cmd_postfix": ") ",
     "delete_cmd_prefix": "rm(",
     "library": "var_list.r",
     "varRefreshCmd": "cat(var_dic_list()) "
    }
   },
   "types_to_exclude": [
    "module",
    "function",
    "builtin_function_or_method",
    "instance",
    "_Feature"
   ],
   "window_display": false
  }
 },
 "nbformat": 4,
 "nbformat_minor": 5
}
