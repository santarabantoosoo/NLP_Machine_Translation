{
 "cells": [
  {
   "cell_type": "code",
   "execution_count": 1,
   "id": "fc462be0",
   "metadata": {
    "ExecuteTime": {
     "end_time": "2022-12-08T13:57:32.584437Z",
     "start_time": "2022-12-08T13:57:31.986864Z"
    }
   },
   "outputs": [],
   "source": [
    "import pandas as pd "
   ]
  },
  {
   "cell_type": "code",
   "execution_count": 2,
   "id": "449c4ead",
   "metadata": {
    "ExecuteTime": {
     "end_time": "2022-12-08T13:58:27.905273Z",
     "start_time": "2022-12-08T13:58:22.047982Z"
    }
   },
   "outputs": [],
   "source": [
    "lyrics = pd.read_csv(\"data/hf_datasets/lyrics-data.csv\")"
   ]
  },
  {
   "cell_type": "code",
   "execution_count": 3,
   "id": "0ca4e8db",
   "metadata": {
    "ExecuteTime": {
     "end_time": "2022-12-08T13:58:31.803962Z",
     "start_time": "2022-12-08T13:58:31.785103Z"
    }
   },
   "outputs": [
    {
     "data": {
      "text/html": [
       "<div>\n",
       "<style scoped>\n",
       "    .dataframe tbody tr th:only-of-type {\n",
       "        vertical-align: middle;\n",
       "    }\n",
       "\n",
       "    .dataframe tbody tr th {\n",
       "        vertical-align: top;\n",
       "    }\n",
       "\n",
       "    .dataframe thead th {\n",
       "        text-align: right;\n",
       "    }\n",
       "</style>\n",
       "<table border=\"1\" class=\"dataframe\">\n",
       "  <thead>\n",
       "    <tr style=\"text-align: right;\">\n",
       "      <th></th>\n",
       "      <th>ALink</th>\n",
       "      <th>SName</th>\n",
       "      <th>SLink</th>\n",
       "      <th>Lyric</th>\n",
       "      <th>language</th>\n",
       "    </tr>\n",
       "  </thead>\n",
       "  <tbody>\n",
       "    <tr>\n",
       "      <th>0</th>\n",
       "      <td>/ivete-sangalo/</td>\n",
       "      <td>Arerê</td>\n",
       "      <td>/ivete-sangalo/arere.html</td>\n",
       "      <td>Tudo o que eu quero nessa vida,\\nToda vida, é\\...</td>\n",
       "      <td>pt</td>\n",
       "    </tr>\n",
       "    <tr>\n",
       "      <th>1</th>\n",
       "      <td>/ivete-sangalo/</td>\n",
       "      <td>Se Eu Não Te Amasse Tanto Assim</td>\n",
       "      <td>/ivete-sangalo/se-eu-nao-te-amasse-tanto-assim...</td>\n",
       "      <td>Meu coração\\nSem direção\\nVoando só por voar\\n...</td>\n",
       "      <td>pt</td>\n",
       "    </tr>\n",
       "    <tr>\n",
       "      <th>2</th>\n",
       "      <td>/ivete-sangalo/</td>\n",
       "      <td>Céu da Boca</td>\n",
       "      <td>/ivete-sangalo/chupa-toda.html</td>\n",
       "      <td>É de babaixá!\\nÉ de balacubaca!\\nÉ de babaixá!...</td>\n",
       "      <td>pt</td>\n",
       "    </tr>\n",
       "    <tr>\n",
       "      <th>3</th>\n",
       "      <td>/ivete-sangalo/</td>\n",
       "      <td>Quando A Chuva Passar</td>\n",
       "      <td>/ivete-sangalo/quando-a-chuva-passar.html</td>\n",
       "      <td>Quando a chuva passar\\n\\nPra quê falar\\nSe voc...</td>\n",
       "      <td>pt</td>\n",
       "    </tr>\n",
       "    <tr>\n",
       "      <th>4</th>\n",
       "      <td>/ivete-sangalo/</td>\n",
       "      <td>Sorte Grande</td>\n",
       "      <td>/ivete-sangalo/sorte-grande.html</td>\n",
       "      <td>A minha sorte grande foi você cair do céu\\nMin...</td>\n",
       "      <td>pt</td>\n",
       "    </tr>\n",
       "  </tbody>\n",
       "</table>\n",
       "</div>"
      ],
      "text/plain": [
       "             ALink                            SName  \\\n",
       "0  /ivete-sangalo/                            Arerê   \n",
       "1  /ivete-sangalo/  Se Eu Não Te Amasse Tanto Assim   \n",
       "2  /ivete-sangalo/                      Céu da Boca   \n",
       "3  /ivete-sangalo/            Quando A Chuva Passar   \n",
       "4  /ivete-sangalo/                     Sorte Grande   \n",
       "\n",
       "                                               SLink  \\\n",
       "0                          /ivete-sangalo/arere.html   \n",
       "1  /ivete-sangalo/se-eu-nao-te-amasse-tanto-assim...   \n",
       "2                     /ivete-sangalo/chupa-toda.html   \n",
       "3          /ivete-sangalo/quando-a-chuva-passar.html   \n",
       "4                   /ivete-sangalo/sorte-grande.html   \n",
       "\n",
       "                                               Lyric language  \n",
       "0  Tudo o que eu quero nessa vida,\\nToda vida, é\\...       pt  \n",
       "1  Meu coração\\nSem direção\\nVoando só por voar\\n...       pt  \n",
       "2  É de babaixá!\\nÉ de balacubaca!\\nÉ de babaixá!...       pt  \n",
       "3  Quando a chuva passar\\n\\nPra quê falar\\nSe voc...       pt  \n",
       "4  A minha sorte grande foi você cair do céu\\nMin...       pt  "
      ]
     },
     "execution_count": 3,
     "metadata": {},
     "output_type": "execute_result"
    }
   ],
   "source": [
    "lyrics.head()"
   ]
  },
  {
   "cell_type": "code",
   "execution_count": 4,
   "id": "8490c9f8",
   "metadata": {
    "ExecuteTime": {
     "end_time": "2022-12-08T13:59:15.107605Z",
     "start_time": "2022-12-08T13:59:15.061086Z"
    }
   },
   "outputs": [],
   "source": [
    "lyrics = lyrics.query('language == \"en\"')"
   ]
  },
  {
   "cell_type": "code",
   "execution_count": 5,
   "id": "6a896785",
   "metadata": {
    "ExecuteTime": {
     "end_time": "2022-12-08T13:59:18.599775Z",
     "start_time": "2022-12-08T13:59:18.595793Z"
    }
   },
   "outputs": [
    {
     "data": {
      "text/plain": [
       "(191814, 5)"
      ]
     },
     "execution_count": 5,
     "metadata": {},
     "output_type": "execute_result"
    }
   ],
   "source": [
    "lyrics.shape"
   ]
  },
  {
   "cell_type": "code",
   "execution_count": 6,
   "id": "fe2d67ca",
   "metadata": {
    "ExecuteTime": {
     "end_time": "2022-12-08T14:00:19.769709Z",
     "start_time": "2022-12-08T14:00:19.680376Z"
    }
   },
   "outputs": [],
   "source": [
    "lyrics = lyrics.dropna()"
   ]
  },
  {
   "cell_type": "code",
   "execution_count": 7,
   "id": "ea11029b",
   "metadata": {
    "ExecuteTime": {
     "end_time": "2022-12-08T14:01:00.552145Z",
     "start_time": "2022-12-08T14:01:00.480478Z"
    }
   },
   "outputs": [],
   "source": [
    "lyrics.drop_duplicates(subset=['SName'], inplace=True)"
   ]
  },
  {
   "cell_type": "code",
   "execution_count": 9,
   "id": "d651b36b",
   "metadata": {
    "ExecuteTime": {
     "end_time": "2022-12-08T14:02:39.913876Z",
     "start_time": "2022-12-08T14:02:39.900510Z"
    }
   },
   "outputs": [
    {
     "name": "stderr",
     "output_type": "stream",
     "text": [
      "/tmp/ipykernel_88133/2879507636.py:1: FutureWarning: In a future version of pandas all arguments of DataFrame.drop except for the argument 'labels' will be keyword-only\n",
      "  lyrics.drop(lyrics.columns.difference(['Lyric', 'SName']), 1, inplace=True)\n"
     ]
    }
   ],
   "source": [
    "lyrics.drop(lyrics.columns.difference(['Lyric', 'SName']), 1, inplace=True)"
   ]
  },
  {
   "cell_type": "code",
   "execution_count": 10,
   "id": "d7a72352",
   "metadata": {
    "ExecuteTime": {
     "end_time": "2022-12-08T14:03:13.347621Z",
     "start_time": "2022-12-08T14:03:13.308577Z"
    }
   },
   "outputs": [],
   "source": [
    "lyrics.dropna(inplace = True)"
   ]
  },
  {
   "cell_type": "code",
   "execution_count": 11,
   "id": "c4b3d923",
   "metadata": {
    "ExecuteTime": {
     "end_time": "2022-12-08T14:03:27.150141Z",
     "start_time": "2022-12-08T14:03:27.146352Z"
    }
   },
   "outputs": [
    {
     "data": {
      "text/plain": [
       "(138182, 2)"
      ]
     },
     "execution_count": 11,
     "metadata": {},
     "output_type": "execute_result"
    }
   ],
   "source": [
    "lyrics.shape"
   ]
  },
  {
   "cell_type": "code",
   "execution_count": 12,
   "id": "cbbbed9c",
   "metadata": {
    "ExecuteTime": {
     "end_time": "2022-12-08T14:04:07.102645Z",
     "start_time": "2022-12-08T14:04:06.754935Z"
    }
   },
   "outputs": [],
   "source": [
    "#     \"# Remove all commas in lyrics to avoid CSV issues\\n\",\n",
    "lyrics['Lyric'] = lyrics['Lyric'].str.replace(',','')"
   ]
  },
  {
   "cell_type": "code",
   "execution_count": 14,
   "id": "58d23145",
   "metadata": {
    "ExecuteTime": {
     "end_time": "2022-12-08T14:04:41.747452Z",
     "start_time": "2022-12-08T14:04:41.138796Z"
    }
   },
   "outputs": [],
   "source": [
    "from sklearn.model_selection import train_test_split"
   ]
  },
  {
   "cell_type": "code",
   "execution_count": 16,
   "id": "a6475855",
   "metadata": {
    "ExecuteTime": {
     "end_time": "2022-12-08T14:05:03.401799Z",
     "start_time": "2022-12-08T14:05:03.374692Z"
    }
   },
   "outputs": [],
   "source": [
    "train, val = train_test_split(lyrics, test_size=0.1)"
   ]
  },
  {
   "cell_type": "code",
   "execution_count": 22,
   "id": "9a7e529d",
   "metadata": {
    "ExecuteTime": {
     "end_time": "2022-12-08T14:07:51.799537Z",
     "start_time": "2022-12-08T14:07:48.526206Z"
    }
   },
   "outputs": [],
   "source": [
    "train.to_csv('data/hf_datasets/hf_train_with_SName.csv', header=True, index=False)\n",
    "val.to_csv('data/hf_datasets/hf_val_with_SName.csv', header=True, index=False)"
   ]
  },
  {
   "cell_type": "code",
   "execution_count": null,
   "id": "64e8169e",
   "metadata": {},
   "outputs": [],
   "source": []
  }
 ],
 "metadata": {
  "kernelspec": {
   "display_name": "Python 3 (ipykernel)",
   "language": "python",
   "name": "python3"
  },
  "language_info": {
   "codemirror_mode": {
    "name": "ipython",
    "version": 3
   },
   "file_extension": ".py",
   "mimetype": "text/x-python",
   "name": "python",
   "nbconvert_exporter": "python",
   "pygments_lexer": "ipython3",
   "version": "3.8.13"
  },
  "toc": {
   "base_numbering": 1,
   "nav_menu": {},
   "number_sections": true,
   "sideBar": true,
   "skip_h1_title": false,
   "title_cell": "Table of Contents",
   "title_sidebar": "Contents",
   "toc_cell": false,
   "toc_position": {},
   "toc_section_display": true,
   "toc_window_display": false
  },
  "varInspector": {
   "cols": {
    "lenName": 16,
    "lenType": 16,
    "lenVar": 40
   },
   "kernels_config": {
    "python": {
     "delete_cmd_postfix": "",
     "delete_cmd_prefix": "del ",
     "library": "var_list.py",
     "varRefreshCmd": "print(var_dic_list())"
    },
    "r": {
     "delete_cmd_postfix": ") ",
     "delete_cmd_prefix": "rm(",
     "library": "var_list.r",
     "varRefreshCmd": "cat(var_dic_list()) "
    }
   },
   "types_to_exclude": [
    "module",
    "function",
    "builtin_function_or_method",
    "instance",
    "_Feature"
   ],
   "window_display": false
  }
 },
 "nbformat": 4,
 "nbformat_minor": 5
}
