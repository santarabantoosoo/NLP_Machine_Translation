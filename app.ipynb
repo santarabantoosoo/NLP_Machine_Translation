{
 "cells": [
  {
   "cell_type": "code",
   "execution_count": 2,
   "id": "249bd826",
   "metadata": {
    "ExecuteTime": {
     "end_time": "2022-12-08T04:56:08.039051Z",
     "start_time": "2022-12-08T04:55:45.815690Z"
    }
   },
   "outputs": [
    {
     "name": "stderr",
     "output_type": "stream",
     "text": [
      "2022-12-07 22:55:49.810798: W tensorflow/stream_executor/platform/default/dso_loader.cc:64] Could not load dynamic library 'libcudart.so.11.0'; dlerror: libcudart.so.11.0: cannot open shared object file: No such file or directory\n",
      "2022-12-07 22:55:49.810819: I tensorflow/stream_executor/cuda/cudart_stub.cc:29] Ignore above cudart dlerror if you do not have a GPU set up on your machine.\n"
     ]
    }
   ],
   "source": [
    "from sentence_transformers import SentenceTransformer\n",
    "import gradio as gr\n",
    "import pandas as pd\n",
    "\n",
    "\n",
    "## TO DO \n",
    "## change the model and the dataset \n",
    "\n",
    "model = SentenceTransformer('all-MiniLM-L12-v2')\n",
    "\n",
    "sds = pd.read_csv(\"data/small_dataset.csv\")\n",
    "\n",
    "embeddings = model.encode(sds['lyrics'])\n",
    "sds['embeddings'] = list(embeddings)"
   ]
  },
  {
   "cell_type": "code",
   "execution_count": 35,
   "id": "1375e1a0",
   "metadata": {
    "ExecuteTime": {
     "end_time": "2022-12-08T05:14:48.640246Z",
     "start_time": "2022-12-08T05:14:48.633064Z"
    }
   },
   "outputs": [],
   "source": [
    "def relevance_scores(query_embed):\n",
    "    scores = [cosine_similarity(query_embed, v2) for v2 in sds['embeddings']]\n",
    "    scores = pd.Series(scores)\n",
    "    return(scores)\n",
    "\n",
    "\n",
    "def semantic_search(query_sentence, df = sds, return_top = False):\n",
    "    query_embed = model.encode(query_sentence)\n",
    "    scores = relevance_scores(query_embed)\n",
    "    df['scores'] = scores\n",
    "    sorted_df = df.sort_values(by = 'scores', ascending = False)\n",
    "    if return_top == False:\n",
    "        sorted_df['scores'] = round(sorted_df['scores'],3)\n",
    "        return sorted_df[['title','artist','scores']].head(3)\n",
    "    else:\n",
    "        return sorted_df.iloc[0]['lyrics'][:200]\n",
    "    \n",
    "def cosine_similarity(v1, v2):\n",
    "    d = np.dot(v1, v2)\n",
    "    cos_theta = d / (np.linalg.norm(v1) * np.linalg.norm(v2))\n",
    "    return(cos_theta)"
   ]
  },
  {
   "cell_type": "code",
   "execution_count": 36,
   "id": "39b19eeb",
   "metadata": {
    "ExecuteTime": {
     "end_time": "2022-12-08T05:14:49.157321Z",
     "start_time": "2022-12-08T05:14:49.109107Z"
    }
   },
   "outputs": [
    {
     "data": {
      "text/html": [
       "<div>\n",
       "<style scoped>\n",
       "    .dataframe tbody tr th:only-of-type {\n",
       "        vertical-align: middle;\n",
       "    }\n",
       "\n",
       "    .dataframe tbody tr th {\n",
       "        vertical-align: top;\n",
       "    }\n",
       "\n",
       "    .dataframe thead th {\n",
       "        text-align: right;\n",
       "    }\n",
       "</style>\n",
       "<table border=\"1\" class=\"dataframe\">\n",
       "  <thead>\n",
       "    <tr style=\"text-align: right;\">\n",
       "      <th></th>\n",
       "      <th>title</th>\n",
       "      <th>artist</th>\n",
       "      <th>scores</th>\n",
       "    </tr>\n",
       "  </thead>\n",
       "  <tbody>\n",
       "    <tr>\n",
       "      <th>1313</th>\n",
       "      <td>​happier</td>\n",
       "      <td>Olivia Rodrigo</td>\n",
       "      <td>0.401</td>\n",
       "    </tr>\n",
       "    <tr>\n",
       "      <th>694</th>\n",
       "      <td>Let Me Love You</td>\n",
       "      <td>Ariana Grande</td>\n",
       "      <td>0.395</td>\n",
       "    </tr>\n",
       "    <tr>\n",
       "      <th>1375</th>\n",
       "      <td>​good 4 u</td>\n",
       "      <td>Olivia Rodrigo</td>\n",
       "      <td>0.390</td>\n",
       "    </tr>\n",
       "  </tbody>\n",
       "</table>\n",
       "</div>"
      ],
      "text/plain": [
       "                title          artist  scores\n",
       "1313         ​happier  Olivia Rodrigo   0.401\n",
       "694   Let Me Love You   Ariana Grande   0.395\n",
       "1375        ​good 4 u  Olivia Rodrigo   0.390"
      ]
     },
     "execution_count": 36,
     "metadata": {},
     "output_type": "execute_result"
    }
   ],
   "source": [
    "semantic_search(\"i'm pleased you are doing well after we left each other\")"
   ]
  },
  {
   "cell_type": "code",
   "execution_count": 37,
   "id": "102462c5",
   "metadata": {
    "ExecuteTime": {
     "end_time": "2022-12-08T05:14:50.586570Z",
     "start_time": "2022-12-08T05:14:50.535505Z"
    }
   },
   "outputs": [
    {
     "name": "stdout",
     "output_type": "stream",
     "text": [
      "\n",
      "We broke up a month ago\n",
      "Your friends are mine, you know I know\n",
      "You've moved on, found someone new\n",
      "One more girl who brings out the better in you\n",
      "And I thought my heart was detached\n",
      "From all the sunli\n"
     ]
    }
   ],
   "source": [
    "print(semantic_search(\"i'm pleased you are doing well after we left each other\", return_top = True))"
   ]
  },
  {
   "cell_type": "code",
   "execution_count": 40,
   "id": "83da19cd",
   "metadata": {
    "ExecuteTime": {
     "end_time": "2022-12-08T05:19:32.278383Z",
     "start_time": "2022-12-08T05:19:18.508024Z"
    }
   },
   "outputs": [
    {
     "name": "stdout",
     "output_type": "stream",
     "text": [
      "Running on local URL:  http://127.0.0.1:7872/\n",
      "Running on public URL: https://20c32e9d83153dfa.gradio.app\n",
      "\n",
      "This share link expires in 72 hours. For free permanent hosting, check out Spaces (https://www.huggingface.co/spaces)\n"
     ]
    },
    {
     "data": {
      "text/html": [
       "<div><iframe src=\"https://20c32e9d83153dfa.gradio.app\" width=\"900\" height=\"500\" allow=\"autoplay; camera; microphone;\" frameborder=\"0\" allowfullscreen></iframe></div>"
      ],
      "text/plain": [
       "<IPython.core.display.HTML object>"
      ]
     },
     "metadata": {},
     "output_type": "display_data"
    },
    {
     "data": {
      "text/plain": [
       "(<gradio.routes.App at 0x7f47ceaed7c0>,\n",
       " 'http://127.0.0.1:7872/',\n",
       " 'https://20c32e9d83153dfa.gradio.app')"
      ]
     },
     "execution_count": 40,
     "metadata": {},
     "output_type": "execute_result"
    }
   ],
   "source": [
    "## To do \n",
    "\n",
    "# here we load our model \n",
    "\n",
    "def get_recom(query): \n",
    "    return  semantic_search(query), semantic_search(query, return_top = True) \n",
    "\n",
    "iface = gr.Interface(    \n",
    "    title = 'Enjoy our recommendations', \n",
    "                     description = 'Do you think we can guess what you like?', \n",
    "                    fn=get_recom, \n",
    "                     inputs=gr.Textbox(lines=4, placeholder=\"Enter ur query...\", label = 'Query',\n",
    "                                       show_label = True),\n",
    "    outputs = [gr.Dataframe(label = \"Top 3 songs\", show_label = True), \n",
    "               gr.Text(label = 'A glimpse of the closest match', show_label = True)]\n",
    "    ,live = False,\n",
    "    interpretation=\"default\",\n",
    ")\n",
    "\n",
    "\n",
    "iface.launch(share = True)"
   ]
  },
  {
   "cell_type": "code",
   "execution_count": null,
   "id": "eb4deef9",
   "metadata": {},
   "outputs": [],
   "source": []
  },
  {
   "cell_type": "code",
   "execution_count": null,
   "id": "78deb1d2",
   "metadata": {},
   "outputs": [],
   "source": []
  }
 ],
 "metadata": {
  "kernelspec": {
   "display_name": "Python 3 (ipykernel)",
   "language": "python",
   "name": "python3"
  },
  "language_info": {
   "codemirror_mode": {
    "name": "ipython",
    "version": 3
   },
   "file_extension": ".py",
   "mimetype": "text/x-python",
   "name": "python",
   "nbconvert_exporter": "python",
   "pygments_lexer": "ipython3",
   "version": "3.8.13"
  },
  "toc": {
   "base_numbering": 1,
   "nav_menu": {},
   "number_sections": true,
   "sideBar": true,
   "skip_h1_title": false,
   "title_cell": "Table of Contents",
   "title_sidebar": "Contents",
   "toc_cell": false,
   "toc_position": {},
   "toc_section_display": true,
   "toc_window_display": false
  },
  "varInspector": {
   "cols": {
    "lenName": 16,
    "lenType": 16,
    "lenVar": 40
   },
   "kernels_config": {
    "python": {
     "delete_cmd_postfix": "",
     "delete_cmd_prefix": "del ",
     "library": "var_list.py",
     "varRefreshCmd": "print(var_dic_list())"
    },
    "r": {
     "delete_cmd_postfix": ") ",
     "delete_cmd_prefix": "rm(",
     "library": "var_list.r",
     "varRefreshCmd": "cat(var_dic_list()) "
    }
   },
   "types_to_exclude": [
    "module",
    "function",
    "builtin_function_or_method",
    "instance",
    "_Feature"
   ],
   "window_display": false
  }
 },
 "nbformat": 4,
 "nbformat_minor": 5
}
