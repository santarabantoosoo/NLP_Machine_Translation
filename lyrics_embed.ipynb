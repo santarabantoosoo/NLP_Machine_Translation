{
 "cells": [
  {
   "cell_type": "code",
   "execution_count": null,
   "metadata": {},
   "outputs": [],
   "source": [
    "from sentence_transformers import SentenceTransformer\n",
    "import pandas as pd\n",
    "import numpy as np"
   ]
  },
  {
   "cell_type": "code",
   "execution_count": null,
   "metadata": {},
   "outputs": [
    {
     "data": {
      "application/vnd.jupyter.widget-view+json": {
       "model_id": "2e9fbe59244a4f868a4f5131010762b5",
       "version_major": 2,
       "version_minor": 0
      },
      "text/plain": [
       "Downloading:   0%|          | 0.00/1.18k [00:00<?, ?B/s]"
      ]
     },
     "metadata": {},
     "output_type": "display_data"
    },
    {
     "data": {
      "application/vnd.jupyter.widget-view+json": {
       "model_id": "51477a5b24f04a7ea66e0c986279c9c3",
       "version_major": 2,
       "version_minor": 0
      },
      "text/plain": [
       "Downloading:   0%|          | 0.00/190 [00:00<?, ?B/s]"
      ]
     },
     "metadata": {},
     "output_type": "display_data"
    },
    {
     "data": {
      "application/vnd.jupyter.widget-view+json": {
       "model_id": "2deb7561e60b4244818c889a3c7462e8",
       "version_major": 2,
       "version_minor": 0
      },
      "text/plain": [
       "Downloading:   0%|          | 0.00/10.6k [00:00<?, ?B/s]"
      ]
     },
     "metadata": {},
     "output_type": "display_data"
    },
    {
     "data": {
      "application/vnd.jupyter.widget-view+json": {
       "model_id": "f95f9479cfd340b8be171224e9844fcf",
       "version_major": 2,
       "version_minor": 0
      },
      "text/plain": [
       "Downloading:   0%|          | 0.00/573 [00:00<?, ?B/s]"
      ]
     },
     "metadata": {},
     "output_type": "display_data"
    },
    {
     "data": {
      "application/vnd.jupyter.widget-view+json": {
       "model_id": "f95bc7904c644758b681182d310825c5",
       "version_major": 2,
       "version_minor": 0
      },
      "text/plain": [
       "Downloading:   0%|          | 0.00/116 [00:00<?, ?B/s]"
      ]
     },
     "metadata": {},
     "output_type": "display_data"
    },
    {
     "data": {
      "application/vnd.jupyter.widget-view+json": {
       "model_id": "fdb89b2439534b1190d4d26d4ae769b8",
       "version_major": 2,
       "version_minor": 0
      },
      "text/plain": [
       "Downloading:   0%|          | 0.00/39.3k [00:00<?, ?B/s]"
      ]
     },
     "metadata": {},
     "output_type": "display_data"
    },
    {
     "data": {
      "application/vnd.jupyter.widget-view+json": {
       "model_id": "8eb88dbf942d420eb898fb7385a3d17d",
       "version_major": 2,
       "version_minor": 0
      },
      "text/plain": [
       "Downloading:   0%|          | 0.00/134M [00:00<?, ?B/s]"
      ]
     },
     "metadata": {},
     "output_type": "display_data"
    },
    {
     "data": {
      "application/vnd.jupyter.widget-view+json": {
       "model_id": "4e79f62d01df4c70b47e68479cb31878",
       "version_major": 2,
       "version_minor": 0
      },
      "text/plain": [
       "Downloading:   0%|          | 0.00/53.0 [00:00<?, ?B/s]"
      ]
     },
     "metadata": {},
     "output_type": "display_data"
    },
    {
     "data": {
      "application/vnd.jupyter.widget-view+json": {
       "model_id": "cd255aec0e5a4d49a4d73c49b8f90977",
       "version_major": 2,
       "version_minor": 0
      },
      "text/plain": [
       "Downloading:   0%|          | 0.00/112 [00:00<?, ?B/s]"
      ]
     },
     "metadata": {},
     "output_type": "display_data"
    },
    {
     "data": {
      "application/vnd.jupyter.widget-view+json": {
       "model_id": "5ff0af9a5a9a4cae950dacdf891af5ed",
       "version_major": 2,
       "version_minor": 0
      },
      "text/plain": [
       "Downloading:   0%|          | 0.00/466k [00:00<?, ?B/s]"
      ]
     },
     "metadata": {},
     "output_type": "display_data"
    },
    {
     "data": {
      "application/vnd.jupyter.widget-view+json": {
       "model_id": "7a4fab7d77b14bad9c7ae7b49ac65b33",
       "version_major": 2,
       "version_minor": 0
      },
      "text/plain": [
       "Downloading:   0%|          | 0.00/352 [00:00<?, ?B/s]"
      ]
     },
     "metadata": {},
     "output_type": "display_data"
    },
    {
     "data": {
      "application/vnd.jupyter.widget-view+json": {
       "model_id": "4008610d0d7a445c826bde6abbc5d3a8",
       "version_major": 2,
       "version_minor": 0
      },
      "text/plain": [
       "Downloading:   0%|          | 0.00/13.2k [00:00<?, ?B/s]"
      ]
     },
     "metadata": {},
     "output_type": "display_data"
    },
    {
     "data": {
      "application/vnd.jupyter.widget-view+json": {
       "model_id": "04aec63e14514f93ad0cd1dbad62f219",
       "version_major": 2,
       "version_minor": 0
      },
      "text/plain": [
       "Downloading:   0%|          | 0.00/232k [00:00<?, ?B/s]"
      ]
     },
     "metadata": {},
     "output_type": "display_data"
    },
    {
     "data": {
      "application/vnd.jupyter.widget-view+json": {
       "model_id": "405a3bb5956941bb9fe19f0bae499228",
       "version_major": 2,
       "version_minor": 0
      },
      "text/plain": [
       "Downloading:   0%|          | 0.00/349 [00:00<?, ?B/s]"
      ]
     },
     "metadata": {},
     "output_type": "display_data"
    }
   ],
   "source": [
    "model = SentenceTransformer('all-MiniLM-L12-v2')"
   ]
  },
  {
   "cell_type": "code",
   "execution_count": null,
   "metadata": {},
   "outputs": [],
   "source": [
    "sds = pd.read_csv(\"data/small_dataset\")"
   ]
  },
  {
   "cell_type": "code",
   "execution_count": null,
   "metadata": {},
   "outputs": [],
   "source": [
    "embeddings = model.encode(sds['lyrics'])"
   ]
  },
  {
   "cell_type": "code",
   "execution_count": null,
   "metadata": {},
   "outputs": [
    {
     "data": {
      "text/plain": [
       "array([[-1.31038964e-01,  1.82835609e-02, -3.78568582e-02, ...,\n",
       "         6.01930224e-05,  2.52264198e-02, -1.38734495e-02],\n",
       "       [-5.06527498e-02,  3.69102024e-02,  1.98155567e-02, ...,\n",
       "         4.73509207e-02,  1.69067178e-02,  1.62009802e-02],\n",
       "       [-5.76839410e-02,  4.75641787e-02,  1.90364628e-03, ...,\n",
       "         8.02092180e-02,  5.36910538e-03, -5.62414564e-02],\n",
       "       ...,\n",
       "       [-5.58314333e-03,  1.10310338e-01, -3.39260958e-02, ...,\n",
       "         7.67268389e-02,  3.38497083e-03, -3.25751267e-02],\n",
       "       [-4.95762657e-03, -5.17929643e-02,  1.16702043e-01, ...,\n",
       "         4.69979048e-02, -5.37207872e-02,  1.70569289e-02],\n",
       "       [ 3.40427319e-03,  6.75700605e-02,  6.94579706e-02, ...,\n",
       "        -4.65298779e-02,  3.38704437e-02,  1.26633956e-03]], dtype=float32)"
      ]
     },
     "execution_count": null,
     "metadata": {},
     "output_type": "execute_result"
    }
   ],
   "source": [
    "embeddings"
   ]
  },
  {
   "cell_type": "code",
   "execution_count": null,
   "metadata": {},
   "outputs": [],
   "source": [
    "sds['embeddings'] = list(embeddings)"
   ]
  },
  {
   "cell_type": "code",
   "execution_count": null,
   "metadata": {},
   "outputs": [],
   "source": [
    "def cosine_similarity(v1, v2):\n",
    "    d = np.dot(v1, v2)\n",
    "    cos_theta = d / (np.linalg.norm(v1) * np.linalg.norm(v2))\n",
    "    return(cos_theta)"
   ]
  },
  {
   "cell_type": "code",
   "execution_count": null,
   "metadata": {},
   "outputs": [],
   "source": [
    "def relevance_scores(query_embed):\n",
    "    scores = [cosine_similarity(query_embed, v2) for v2 in sds['embeddings']]\n",
    "    scores = pd.Series(scores)\n",
    "    return(scores)"
   ]
  },
  {
   "cell_type": "code",
   "execution_count": null,
   "metadata": {},
   "outputs": [],
   "source": [
    "def semantic_search(query_sentence, df = sds, return_top = False):\n",
    "    query_embed = model.encode(query_sentence)\n",
    "    scores = relevance_scores(query_embed)\n",
    "    df['scores'] = scores\n",
    "    sorted_df = df.sort_values(by = 'scores', ascending = False)\n",
    "    if return_top == False:\n",
    "        return sorted_df\n",
    "    else:\n",
    "        return sorted_df.iloc[0]['lyrics']"
   ]
  },
  {
   "cell_type": "code",
   "execution_count": null,
   "metadata": {},
   "outputs": [
    {
     "data": {
      "text/html": [
       "<div>\n",
       "<style scoped>\n",
       "    .dataframe tbody tr th:only-of-type {\n",
       "        vertical-align: middle;\n",
       "    }\n",
       "\n",
       "    .dataframe tbody tr th {\n",
       "        vertical-align: top;\n",
       "    }\n",
       "\n",
       "    .dataframe thead th {\n",
       "        text-align: right;\n",
       "    }\n",
       "</style>\n",
       "<table border=\"1\" class=\"dataframe\">\n",
       "  <thead>\n",
       "    <tr style=\"text-align: right;\">\n",
       "      <th></th>\n",
       "      <th>Unnamed: 0</th>\n",
       "      <th>index</th>\n",
       "      <th>title</th>\n",
       "      <th>tag</th>\n",
       "      <th>artist</th>\n",
       "      <th>year</th>\n",
       "      <th>views</th>\n",
       "      <th>features</th>\n",
       "      <th>lyrics</th>\n",
       "      <th>id</th>\n",
       "      <th>embeddings</th>\n",
       "      <th>scores</th>\n",
       "    </tr>\n",
       "  </thead>\n",
       "  <tbody>\n",
       "    <tr>\n",
       "      <th>1313</th>\n",
       "      <td>164519</td>\n",
       "      <td>3959866</td>\n",
       "      <td>​happier</td>\n",
       "      <td>pop</td>\n",
       "      <td>Olivia Rodrigo</td>\n",
       "      <td>2021</td>\n",
       "      <td>1230015</td>\n",
       "      <td>{}</td>\n",
       "      <td>\\nWe broke up a month ago\\nYour friends are mi...</td>\n",
       "      <td>5416223</td>\n",
       "      <td>[-0.050075706, -0.069140814, 0.10742216, -0.00...</td>\n",
       "      <td>0.598926</td>\n",
       "    </tr>\n",
       "    <tr>\n",
       "      <th>694</th>\n",
       "      <td>79571</td>\n",
       "      <td>1841524</td>\n",
       "      <td>Let Me Love You</td>\n",
       "      <td>pop</td>\n",
       "      <td>Ariana Grande</td>\n",
       "      <td>2016</td>\n",
       "      <td>1090086</td>\n",
       "      <td>{\"Lil Wayne\"}</td>\n",
       "      <td>\\nI just broke up with my ex\\nNow I'm out here...</td>\n",
       "      <td>2437285</td>\n",
       "      <td>[-0.018333275, -0.0673361, 0.1049746, -0.03285...</td>\n",
       "      <td>0.576452</td>\n",
       "    </tr>\n",
       "    <tr>\n",
       "      <th>1375</th>\n",
       "      <td>178971</td>\n",
       "      <td>4981757</td>\n",
       "      <td>​good 4 u</td>\n",
       "      <td>pop</td>\n",
       "      <td>Olivia Rodrigo</td>\n",
       "      <td>2021</td>\n",
       "      <td>2486863</td>\n",
       "      <td>{}</td>\n",
       "      <td>\\n(Ah)\\n\\n\\nWell, good for you, I guess you mo...</td>\n",
       "      <td>6702232</td>\n",
       "      <td>[-0.07039017, -0.010325448, 0.11081872, 0.0729...</td>\n",
       "      <td>0.555228</td>\n",
       "    </tr>\n",
       "    <tr>\n",
       "      <th>189</th>\n",
       "      <td>12198</td>\n",
       "      <td>61668</td>\n",
       "      <td>Somebody That I Used to Know</td>\n",
       "      <td>pop</td>\n",
       "      <td>Gotye</td>\n",
       "      <td>2011</td>\n",
       "      <td>1737049</td>\n",
       "      <td>{Kimbra}</td>\n",
       "      <td>\\nNow and then I think of when we were togethe...</td>\n",
       "      <td>65848</td>\n",
       "      <td>[-0.0443811, -0.017374398, 0.088465914, 0.0406...</td>\n",
       "      <td>0.432752</td>\n",
       "    </tr>\n",
       "    <tr>\n",
       "      <th>711</th>\n",
       "      <td>81127</td>\n",
       "      <td>1859609</td>\n",
       "      <td>Closer</td>\n",
       "      <td>pop</td>\n",
       "      <td>The Chainsmokers</td>\n",
       "      <td>2016</td>\n",
       "      <td>6721409</td>\n",
       "      <td>{Halsey}</td>\n",
       "      <td>\\nHey, I was doing just fine before I met you\\...</td>\n",
       "      <td>2458848</td>\n",
       "      <td>[-0.01597903, 0.0048104706, 0.11487218, 0.0246...</td>\n",
       "      <td>0.430104</td>\n",
       "    </tr>\n",
       "    <tr>\n",
       "      <th>...</th>\n",
       "      <td>...</td>\n",
       "      <td>...</td>\n",
       "      <td>...</td>\n",
       "      <td>...</td>\n",
       "      <td>...</td>\n",
       "      <td>...</td>\n",
       "      <td>...</td>\n",
       "      <td>...</td>\n",
       "      <td>...</td>\n",
       "      <td>...</td>\n",
       "      <td>...</td>\n",
       "      <td>...</td>\n",
       "    </tr>\n",
       "    <tr>\n",
       "      <th>1151</th>\n",
       "      <td>129211</td>\n",
       "      <td>2678866</td>\n",
       "      <td>Nico And The Niners</td>\n",
       "      <td>pop</td>\n",
       "      <td>twenty one pilots</td>\n",
       "      <td>2018</td>\n",
       "      <td>1087923</td>\n",
       "      <td>{\"​twenty one pilots\"}</td>\n",
       "      <td>\\nMsilaiv ecnuoned ew\\nTsae eurt daeh dna amed...</td>\n",
       "      <td>3812599</td>\n",
       "      <td>[-0.03603754, 0.026914828, -0.058671877, -0.04...</td>\n",
       "      <td>-0.039652</td>\n",
       "    </tr>\n",
       "    <tr>\n",
       "      <th>693</th>\n",
       "      <td>79553</td>\n",
       "      <td>1841298</td>\n",
       "      <td>How Genius Works</td>\n",
       "      <td>misc</td>\n",
       "      <td>Genius</td>\n",
       "      <td>2016</td>\n",
       "      <td>1331958</td>\n",
       "      <td>{}</td>\n",
       "      <td>Genius is the ultimate source of music knowled...</td>\n",
       "      <td>2437045</td>\n",
       "      <td>[0.017587233, -0.10442876, 0.037475057, 0.0212...</td>\n",
       "      <td>-0.042989</td>\n",
       "    </tr>\n",
       "    <tr>\n",
       "      <th>1232</th>\n",
       "      <td>144280</td>\n",
       "      <td>3140514</td>\n",
       "      <td>Au DD</td>\n",
       "      <td>rap</td>\n",
       "      <td>PNL</td>\n",
       "      <td>2019</td>\n",
       "      <td>1270655</td>\n",
       "      <td>{}</td>\n",
       "      <td>\\n\\n\\nBats les couilles d'l'Himalaya\\nBats les...</td>\n",
       "      <td>4388058</td>\n",
       "      <td>[-0.013177911, 0.0035447918, -0.07363458, -0.0...</td>\n",
       "      <td>-0.047094</td>\n",
       "    </tr>\n",
       "    <tr>\n",
       "      <th>67</th>\n",
       "      <td>875</td>\n",
       "      <td>1046</td>\n",
       "      <td>Sing for the Moment</td>\n",
       "      <td>rap</td>\n",
       "      <td>Eminem</td>\n",
       "      <td>2002</td>\n",
       "      <td>1177104</td>\n",
       "      <td>{}</td>\n",
       "      <td>\\nThese ideas are nightmares to white parents\\...</td>\n",
       "      <td>1010</td>\n",
       "      <td>[0.02095876, 0.056278836, -0.017212084, -0.043...</td>\n",
       "      <td>-0.049496</td>\n",
       "    </tr>\n",
       "    <tr>\n",
       "      <th>1158</th>\n",
       "      <td>130348</td>\n",
       "      <td>2704674</td>\n",
       "      <td>​you should see me in a crown</td>\n",
       "      <td>pop</td>\n",
       "      <td>Billie Eilish</td>\n",
       "      <td>2018</td>\n",
       "      <td>1230785</td>\n",
       "      <td>{}</td>\n",
       "      <td>\\nBite my tongue, bide my time\\nWearing a warn...</td>\n",
       "      <td>3844633</td>\n",
       "      <td>[-0.0251501, -0.008687782, -0.00673859, -0.005...</td>\n",
       "      <td>-0.097318</td>\n",
       "    </tr>\n",
       "  </tbody>\n",
       "</table>\n",
       "<p>1396 rows × 12 columns</p>\n",
       "</div>"
      ],
      "text/plain": [
       "      Unnamed: 0    index                          title   tag  \\\n",
       "1313      164519  3959866                       ​happier   pop   \n",
       "694        79571  1841524                Let Me Love You   pop   \n",
       "1375      178971  4981757                      ​good 4 u   pop   \n",
       "189        12198    61668   Somebody That I Used to Know   pop   \n",
       "711        81127  1859609                         Closer   pop   \n",
       "...          ...      ...                            ...   ...   \n",
       "1151      129211  2678866            Nico And The Niners   pop   \n",
       "693        79553  1841298               How Genius Works  misc   \n",
       "1232      144280  3140514                          Au DD   rap   \n",
       "67           875     1046            Sing for the Moment   rap   \n",
       "1158      130348  2704674  ​you should see me in a crown   pop   \n",
       "\n",
       "                 artist  year    views                features  \\\n",
       "1313     Olivia Rodrigo  2021  1230015                      {}   \n",
       "694       Ariana Grande  2016  1090086           {\"Lil Wayne\"}   \n",
       "1375     Olivia Rodrigo  2021  2486863                      {}   \n",
       "189               Gotye  2011  1737049                {Kimbra}   \n",
       "711    The Chainsmokers  2016  6721409                {Halsey}   \n",
       "...                 ...   ...      ...                     ...   \n",
       "1151  twenty one pilots  2018  1087923  {\"​twenty one pilots\"}   \n",
       "693              Genius  2016  1331958                      {}   \n",
       "1232                PNL  2019  1270655                      {}   \n",
       "67               Eminem  2002  1177104                      {}   \n",
       "1158      Billie Eilish  2018  1230785                      {}   \n",
       "\n",
       "                                                 lyrics       id  \\\n",
       "1313  \\nWe broke up a month ago\\nYour friends are mi...  5416223   \n",
       "694   \\nI just broke up with my ex\\nNow I'm out here...  2437285   \n",
       "1375  \\n(Ah)\\n\\n\\nWell, good for you, I guess you mo...  6702232   \n",
       "189   \\nNow and then I think of when we were togethe...    65848   \n",
       "711   \\nHey, I was doing just fine before I met you\\...  2458848   \n",
       "...                                                 ...      ...   \n",
       "1151  \\nMsilaiv ecnuoned ew\\nTsae eurt daeh dna amed...  3812599   \n",
       "693   Genius is the ultimate source of music knowled...  2437045   \n",
       "1232  \\n\\n\\nBats les couilles d'l'Himalaya\\nBats les...  4388058   \n",
       "67    \\nThese ideas are nightmares to white parents\\...     1010   \n",
       "1158  \\nBite my tongue, bide my time\\nWearing a warn...  3844633   \n",
       "\n",
       "                                             embeddings    scores  \n",
       "1313  [-0.050075706, -0.069140814, 0.10742216, -0.00...  0.598926  \n",
       "694   [-0.018333275, -0.0673361, 0.1049746, -0.03285...  0.576452  \n",
       "1375  [-0.07039017, -0.010325448, 0.11081872, 0.0729...  0.555228  \n",
       "189   [-0.0443811, -0.017374398, 0.088465914, 0.0406...  0.432752  \n",
       "711   [-0.01597903, 0.0048104706, 0.11487218, 0.0246...  0.430104  \n",
       "...                                                 ...       ...  \n",
       "1151  [-0.03603754, 0.026914828, -0.058671877, -0.04... -0.039652  \n",
       "693   [0.017587233, -0.10442876, 0.037475057, 0.0212... -0.042989  \n",
       "1232  [-0.013177911, 0.0035447918, -0.07363458, -0.0... -0.047094  \n",
       "67    [0.02095876, 0.056278836, -0.017212084, -0.043... -0.049496  \n",
       "1158  [-0.0251501, -0.008687782, -0.00673859, -0.005... -0.097318  \n",
       "\n",
       "[1396 rows x 12 columns]"
      ]
     },
     "execution_count": null,
     "metadata": {},
     "output_type": "execute_result"
    }
   ],
   "source": [
    "semantic_search(\"i'm happy you are doing well after our breakup\")"
   ]
  },
  {
   "cell_type": "code",
   "execution_count": null,
   "metadata": {},
   "outputs": [
    {
     "name": "stdout",
     "output_type": "stream",
     "text": [
      "\n",
      "We broke up a month ago\n",
      "Your friends are mine, you know I know\n",
      "You've moved on, found someone new\n",
      "One more girl who brings out the better in you\n",
      "And I thought my heart was detached\n",
      "From all the sunlight of our past\n",
      "But she's so sweet, she's so pretty\n",
      "Does she mean you forgot about me?\n",
      "\n",
      "\n",
      "Oh, I hope you're happy\n",
      "But not like how you were with me\n",
      "I'm selfish, I know, I can't let you go\n",
      "So find someone great, but don't find no one better\n",
      "I hope you're happy, but don't be happier\n",
      "\n",
      "\n",
      "And do you tell her she's the most beautiful girl you've ever seen?\n",
      "An eternal love bullshit you know you'll never mean\n",
      "Remember when I believed\n",
      "You meant it when you said it first to me?\n",
      "And now I'm pickin' her apart\n",
      "Like cuttin' her down will make you miss my wretched heart\n",
      "But she's beautiful, she looks kind\n",
      "She probably gives you butterflies\n",
      "\n",
      "I hope you're happy\n",
      "But not like how you were with me\n",
      "I'm selfish, I know, I can't let you go\n",
      "So find someone great, but don't find no one better\n",
      "I hope you're happy\n",
      "I wish you all the best, really\n",
      "Say you love her, baby\n",
      "Just not like you loved me\n",
      "And think of me fondly when your hands are on her\n",
      "I hope you're happy, but don't be happier\n",
      "\n",
      "\n",
      "Ooh, ooh-ooh\n",
      "Ooh-ooh, ooh-ooh\n",
      "\n",
      "\n",
      "I hope you're happy\n",
      "Just not like how you were with me\n",
      "I'm selfish, I know, can't let you go\n",
      "So find someone great, but don't find no one better\n",
      "I hope you're happy, but don't be happier\n"
     ]
    }
   ],
   "source": [
    "print(semantic_search(\"i'm happy you are doing well after our breakup\", return_top = True))"
   ]
  }
 ],
 "metadata": {
  "kernelspec": {
   "display_name": "Python 3.8.5 64-bit ('anaconda3')",
   "language": "python",
   "name": "python3"
  },
  "language_info": {
   "name": "python",
   "version": "3.8.5"
  },
  "vscode": {
   "interpreter": {
    "hash": "98b39e574d87cc5692564f8530d6c80c20e25b792bac53804b03115375c4a8d6"
   }
  }
 },
 "nbformat": 4,
 "nbformat_minor": 2
}
