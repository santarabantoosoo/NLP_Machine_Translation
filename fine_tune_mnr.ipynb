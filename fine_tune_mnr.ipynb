{
 "cells": [
  {
   "cell_type": "markdown",
   "metadata": {},
   "source": [
    "## Semantic Song Search: Fine-Tune Base Model"
   ]
  },
  {
   "cell_type": "code",
   "execution_count": 1,
   "metadata": {},
   "outputs": [],
   "source": [
    "from sentence_transformers import SentenceTransformer\n",
    "import pandas as pd\n",
    "import numpy as np"
   ]
  },
  {
   "cell_type": "markdown",
   "metadata": {},
   "source": [
    "### Data Prep"
   ]
  },
  {
   "cell_type": "code",
   "execution_count": 2,
   "metadata": {},
   "outputs": [],
   "source": [
    "sds = pd.read_csv(\"data/small_dataset.csv\")"
   ]
  },
  {
   "cell_type": "code",
   "execution_count": 3,
   "metadata": {},
   "outputs": [
    {
     "data": {
      "text/plain": [
       "Unnamed: 0     int64\n",
       "index          int64\n",
       "title         object\n",
       "tag           object\n",
       "artist        object\n",
       "year           int64\n",
       "views          int64\n",
       "features      object\n",
       "lyrics        object\n",
       "id             int64\n",
       "dtype: object"
      ]
     },
     "execution_count": 3,
     "metadata": {},
     "output_type": "execute_result"
    }
   ],
   "source": [
    "sds.dtypes"
   ]
  },
  {
   "cell_type": "code",
   "execution_count": 4,
   "metadata": {},
   "outputs": [
    {
     "data": {
      "text/plain": [
       "array(['rap', 'pop', 'rock', 'rb', 'country', 'misc'], dtype=object)"
      ]
     },
     "execution_count": 4,
     "metadata": {},
     "output_type": "execute_result"
    }
   ],
   "source": [
    "sds['tag'].unique()"
   ]
  },
  {
   "cell_type": "markdown",
   "metadata": {},
   "source": [
    "#### Remove rap because we don't like the lyrics\n",
    "- Too explicit / NSFW / NSFS\n",
    "- Many similar lines, less cohesive narratives/plots\n",
    "\n",
    "##### Concern: Some rap songs are tagged as pop"
   ]
  },
  {
   "cell_type": "code",
   "execution_count": 5,
   "metadata": {},
   "outputs": [
    {
     "data": {
      "text/plain": [
       "(614, 10)"
      ]
     },
     "execution_count": 5,
     "metadata": {},
     "output_type": "execute_result"
    }
   ],
   "source": [
    "sds = sds[sds['tag'] != 'rap']\n",
    "sds.shape"
   ]
  },
  {
   "cell_type": "code",
   "execution_count": 6,
   "metadata": {},
   "outputs": [
    {
     "data": {
      "text/plain": [
       "Unnamed: 0                                                  424\n",
       "index                                                       516\n",
       "title                                                 Heartless\n",
       "tag                                                         pop\n",
       "artist                                               Kanye West\n",
       "year                                                       2008\n",
       "views                                                   1175109\n",
       "features                                                     {}\n",
       "lyrics        \\nIn the night, I hear 'em talk\\nThe coldest s...\n",
       "id                                                          526\n",
       "Name: 36, dtype: object"
      ]
     },
     "execution_count": 6,
     "metadata": {},
     "output_type": "execute_result"
    }
   ],
   "source": [
    "# rap song tagged as pop\n",
    "sds.iloc[0]"
   ]
  },
  {
   "cell_type": "code",
   "execution_count": 7,
   "metadata": {},
   "outputs": [],
   "source": [
    "# all\n",
    "lyrics = sds['lyrics']"
   ]
  },
  {
   "cell_type": "markdown",
   "metadata": {},
   "source": [
    "### Remove duplicate lyrics lines\n",
    "- Remove duplicate lines because otherwise our model may learn to match song halves based on repeated lyrics within a song\n",
    "- Define function below to dedupe and preserve order\n",
    "\n",
    "#### Concern: There can still be quite similar lines scattered through songs"
   ]
  },
  {
   "cell_type": "code",
   "execution_count": 8,
   "metadata": {},
   "outputs": [
    {
     "data": {
      "text/plain": [
       "Unnamed: 0                                                  424\n",
       "index                                                       516\n",
       "title                                                 Heartless\n",
       "tag                                                         pop\n",
       "artist                                               Kanye West\n",
       "year                                                       2008\n",
       "views                                                   1175109\n",
       "features                                                     {}\n",
       "lyrics        \\nIn the night, I hear 'em talk\\nThe coldest s...\n",
       "id                                                          526\n",
       "Name: 36, dtype: object"
      ]
     },
     "execution_count": 8,
     "metadata": {},
     "output_type": "execute_result"
    }
   ],
   "source": [
    "# test case\n",
    "test = sds.iloc[0]['lyrics']\n",
    "sds.iloc[0]"
   ]
  },
  {
   "cell_type": "code",
   "execution_count": 9,
   "metadata": {},
   "outputs": [
    {
     "name": "stdout",
     "output_type": "stream",
     "text": [
      "line 74\n",
      "unique lines 46\n"
     ]
    }
   ],
   "source": [
    "print('line',len(test.split('\\n')))\n",
    "print('unique lines',len(set(test.split('\\n'))))"
   ]
  },
  {
   "cell_type": "code",
   "execution_count": 10,
   "metadata": {},
   "outputs": [
    {
     "data": {
      "text/plain": [
       "{'',\n",
       " \"'Cause I already know how this thing go\",\n",
       " \"And now you wanna get me back and you gon' show me\",\n",
       " 'And on and, and on and on and on',\n",
       " \"And we just gon' be enemies\",\n",
       " \"And you can't make it right\",\n",
       " \"And you just gon' keep hatin' me\",\n",
       " \"Ayo, I did some things but that's the old me\",\n",
       " \"Ayo, I know of some things that you ain't told me\",\n",
       " \"Baby, let's just knock it off\",\n",
       " \"But in the end, it's still so lonely\",\n",
       " 'Cold as the winter wind when it breeze, yo?',\n",
       " 'He lost his soul to a woman so heartless',\n",
       " \"Homie, I don't know, she's hot and cold\",\n",
       " 'How could you be so',\n",
       " 'How could you be so Dr. Evil?',\n",
       " 'How could you be so heartless?',\n",
       " 'How could you be so heartless? (How, how?)',\n",
       " 'I could just leave it wrong',\n",
       " \"I decided we wasn't gon' speak so\",\n",
       " \"I know you can't believe\",\n",
       " 'I mean, after all the things that we been through',\n",
       " 'I mean, after all the things we got into',\n",
       " \"I won't stop, won't mess my groove up\",\n",
       " \"I'm gon' take off tonight into the night\",\n",
       " \"In the night, I hear 'em talk\",\n",
       " \"In the night, I hear 'em talk (Me)\",\n",
       " \"Just remember that you talkin' to me though\",\n",
       " 'Oh, how could you be so heartless?',\n",
       " 'On and on and on and on',\n",
       " \"So I got somethin' new to see\",\n",
       " \"So you walk around like you don't know me\",\n",
       " 'Somewhere far along this road',\n",
       " 'Talk and talk and talk and talk',\n",
       " 'The coldest story ever told',\n",
       " \"They don't know 'bout me and you\",\n",
       " \"They don't know what we been through\",\n",
       " \"They say that they don't see what you see in me\",\n",
       " \"Why do she be so mad at me fo'?\",\n",
       " 'Why we up 3 AM on the phone?',\n",
       " 'You got a new friend, well, I got homies',\n",
       " \"You need to watch the way you talkin' to me, yo\",\n",
       " \"You run and tell your friends that you're leavin' me\",\n",
       " \"You wait a couple of months, then you gon' see\",\n",
       " \"You'll never find nobody better than me\",\n",
       " \"You're bringin' out a side of me that I don't know\"}"
      ]
     },
     "execution_count": 10,
     "metadata": {},
     "output_type": "execute_result"
    }
   ],
   "source": [
    "set(test.split('\\n'))"
   ]
  },
  {
   "cell_type": "code",
   "execution_count": 11,
   "metadata": {},
   "outputs": [],
   "source": [
    "# remove duplicates from list and preserve order\n",
    "def dedupe(seq):\n",
    "    seen = set()\n",
    "    seen_add = seen.add\n",
    "    return [x for x in seq if not (x in seen or seen_add(x))]"
   ]
  },
  {
   "cell_type": "code",
   "execution_count": 12,
   "metadata": {},
   "outputs": [
    {
     "data": {
      "text/plain": [
       "['',\n",
       " \"In the night, I hear 'em talk\",\n",
       " 'The coldest story ever told',\n",
       " 'Somewhere far along this road',\n",
       " 'He lost his soul to a woman so heartless',\n",
       " 'How could you be so heartless?',\n",
       " 'Oh, how could you be so heartless?',\n",
       " 'How could you be so',\n",
       " 'Cold as the winter wind when it breeze, yo?',\n",
       " \"Just remember that you talkin' to me though\",\n",
       " \"You need to watch the way you talkin' to me, yo\",\n",
       " 'I mean, after all the things that we been through',\n",
       " 'I mean, after all the things we got into',\n",
       " \"Ayo, I know of some things that you ain't told me\",\n",
       " \"Ayo, I did some things but that's the old me\",\n",
       " \"And now you wanna get me back and you gon' show me\",\n",
       " \"So you walk around like you don't know me\",\n",
       " 'You got a new friend, well, I got homies',\n",
       " \"But in the end, it's still so lonely\",\n",
       " 'How could you be so Dr. Evil?',\n",
       " \"You're bringin' out a side of me that I don't know\",\n",
       " \"I decided we wasn't gon' speak so\",\n",
       " 'Why we up 3 AM on the phone?',\n",
       " \"Why do she be so mad at me fo'?\",\n",
       " \"Homie, I don't know, she's hot and cold\",\n",
       " \"I won't stop, won't mess my groove up\",\n",
       " \"'Cause I already know how this thing go\",\n",
       " \"You run and tell your friends that you're leavin' me\",\n",
       " \"They say that they don't see what you see in me\",\n",
       " \"You wait a couple of months, then you gon' see\",\n",
       " \"You'll never find nobody better than me\",\n",
       " \"In the night, I hear 'em talk (Me)\",\n",
       " 'Talk and talk and talk and talk',\n",
       " \"Baby, let's just knock it off\",\n",
       " \"They don't know what we been through\",\n",
       " \"They don't know 'bout me and you\",\n",
       " \"So I got somethin' new to see\",\n",
       " \"And you just gon' keep hatin' me\",\n",
       " \"And we just gon' be enemies\",\n",
       " \"I know you can't believe\",\n",
       " 'I could just leave it wrong',\n",
       " \"And you can't make it right\",\n",
       " \"I'm gon' take off tonight into the night\",\n",
       " 'How could you be so heartless? (How, how?)',\n",
       " 'On and on and on and on',\n",
       " 'And on and, and on and on and on']"
      ]
     },
     "execution_count": 12,
     "metadata": {},
     "output_type": "execute_result"
    }
   ],
   "source": [
    "# deduped lines example\n",
    "dedupe(test.split('\\n'))"
   ]
  },
  {
   "cell_type": "code",
   "execution_count": 13,
   "metadata": {},
   "outputs": [
    {
     "data": {
      "text/plain": [
       "True"
      ]
     },
     "execution_count": 13,
     "metadata": {},
     "output_type": "execute_result"
    }
   ],
   "source": [
    "# confirm dedupe line count\n",
    "len(dedupe(test.split('\\n'))) == len(set(test.split('\\n')))"
   ]
  },
  {
   "cell_type": "code",
   "execution_count": 14,
   "metadata": {},
   "outputs": [
    {
     "name": "stdout",
     "output_type": "stream",
     "text": [
      "\n",
      "In the night, I hear 'em talk\n",
      "The coldest story ever told\n",
      "Somewhere far along this road\n",
      "He lost his soul to a woman so heartless\n",
      "How could you be so heartless?\n",
      "Oh, how could you be so heartless?\n",
      "How could you be so\n",
      "Cold as the winter wind when it breeze, yo?\n",
      "Just remember that you talkin' to me though\n",
      "You need to watch the way you talkin' to me, yo\n",
      "I mean, after all the things that we been through\n",
      "I mean, after all the things we got into\n",
      "Ayo, I know of some things that you ain't told me\n",
      "Ayo, I did some things but that's the old me\n",
      "And now you wanna get me back and you gon' show me\n",
      "So you walk around like you don't know me\n",
      "You got a new friend, well, I got homies\n",
      "But in the end, it's still so lonely\n",
      "How could you be so Dr. Evil?\n",
      "You're bringin' out a side of me that I don't know\n",
      "I decided we wasn't gon' speak so\n",
      "Why we up 3 AM on the phone?\n",
      "Why do she be so mad at me fo'?\n",
      "Homie, I don't know, she's hot and cold\n",
      "I won't stop, won't mess my groove up\n",
      "'Cause I already know how this thing go\n",
      "You run and tell your friends that you're leavin' me\n",
      "They say that they don't see what you see in me\n",
      "You wait a couple of months, then you gon' see\n",
      "You'll never find nobody better than me\n",
      "In the night, I hear 'em talk (Me)\n",
      "Talk and talk and talk and talk\n",
      "Baby, let's just knock it off\n",
      "They don't know what we been through\n",
      "They don't know 'bout me and you\n",
      "So I got somethin' new to see\n",
      "And you just gon' keep hatin' me\n",
      "And we just gon' be enemies\n",
      "I know you can't believe\n",
      "I could just leave it wrong\n",
      "And you can't make it right\n",
      "I'm gon' take off tonight into the night\n",
      "How could you be so heartless? (How, how?)\n",
      "On and on and on and on\n",
      "And on and, and on and on and on\n"
     ]
    }
   ],
   "source": [
    "# reassemble deduped song\n",
    "test = dedupe(test.split('\\n'))\n",
    "test = '\\n'.join(test)\n",
    "print(test)"
   ]
  },
  {
   "cell_type": "code",
   "execution_count": 15,
   "metadata": {},
   "outputs": [],
   "source": [
    "# process dataset\n",
    "\n",
    "lyrics_deduped = []\n",
    "\n",
    "for song in lyrics:\n",
    "    song = dedupe(song.split('\\n'))\n",
    "    song = '\\n'.join(song)\n",
    "    lyrics_deduped.append(song)"
   ]
  },
  {
   "cell_type": "markdown",
   "metadata": {},
   "source": [
    "### Training"
   ]
  },
  {
   "cell_type": "markdown",
   "metadata": {},
   "source": [
    "Reference: https://www.pinecone.io/learn/fine-tune-sentence-transformers-mnr/#fast-fine-tuning"
   ]
  },
  {
   "cell_type": "code",
   "execution_count": 16,
   "metadata": {},
   "outputs": [
    {
     "data": {
      "application/vnd.jupyter.widget-view+json": {
       "model_id": "2f195b16f3884a7cb6b864e77ce9412d",
       "version_major": 2,
       "version_minor": 0
      },
      "text/plain": [
       "  0%|          | 0/614 [00:00<?, ?it/s]"
      ]
     },
     "metadata": {},
     "output_type": "display_data"
    }
   ],
   "source": [
    "from sentence_transformers import InputExample\n",
    "from tqdm.auto import tqdm  # progress bar\n",
    "\n",
    "train_samples = []\n",
    "for song in tqdm(lyrics_deduped):\n",
    "    # split songs into two halves for positive pair training\n",
    "    half_1 = song[:len(song)//2]\n",
    "    half_2 = song[len(song)//2:]\n",
    "    train_samples.append(InputExample(\n",
    "        texts=[half_1, half_2]\n",
    "    ))"
   ]
  },
  {
   "cell_type": "code",
   "execution_count": 17,
   "metadata": {},
   "outputs": [
    {
     "data": {
      "text/plain": [
       "614"
      ]
     },
     "execution_count": 17,
     "metadata": {},
     "output_type": "execute_result"
    }
   ],
   "source": [
    "len(train_samples)"
   ]
  },
  {
   "cell_type": "code",
   "execution_count": 18,
   "metadata": {},
   "outputs": [],
   "source": [
    "from sentence_transformers import datasets\n",
    "\n",
    "batch_size = 32\n",
    "\n",
    "# remove duplicate pairings\n",
    "loader = datasets.NoDuplicatesDataLoader(\n",
    "    train_samples, batch_size=batch_size)\n",
    "     "
   ]
  },
  {
   "cell_type": "code",
   "execution_count": 19,
   "metadata": {},
   "outputs": [
    {
     "data": {
      "text/plain": [
       "614"
      ]
     },
     "execution_count": 19,
     "metadata": {},
     "output_type": "execute_result"
    }
   ],
   "source": [
    "len(train_samples)"
   ]
  },
  {
   "cell_type": "code",
   "execution_count": 20,
   "metadata": {},
   "outputs": [
    {
     "data": {
      "text/plain": [
       "SentenceTransformer(\n",
       "  (0): Transformer({'max_seq_length': 128, 'do_lower_case': False}) with Transformer model: BertModel \n",
       "  (1): Pooling({'word_embedding_dimension': 384, 'pooling_mode_cls_token': False, 'pooling_mode_mean_tokens': True, 'pooling_mode_max_tokens': False, 'pooling_mode_mean_sqrt_len_tokens': False})\n",
       "  (2): Normalize()\n",
       ")"
      ]
     },
     "execution_count": 20,
     "metadata": {},
     "output_type": "execute_result"
    }
   ],
   "source": [
    "from sentence_transformers import models, SentenceTransformer\n",
    "\n",
    "# bert = models.Transformer('bert-base-uncased')\n",
    "# pooler = models.Pooling(\n",
    "#    bert.get_word_embedding_dimension(),\n",
    "#    pooling_mode_mean_tokens=True\n",
    "#)\n",
    "# model = SentenceTransformer(modules=[bert, pooler])\n",
    "\n",
    "model = SentenceTransformer('all-MiniLM-L12-v2')\n",
    "\n",
    "model"
   ]
  },
  {
   "cell_type": "code",
   "execution_count": 21,
   "metadata": {},
   "outputs": [],
   "source": [
    "from sentence_transformers import losses\n",
    "\n",
    "# mnr loss\n",
    "loss = losses.MultipleNegativesRankingLoss(model)"
   ]
  },
  {
   "cell_type": "code",
   "execution_count": 22,
   "metadata": {},
   "outputs": [],
   "source": [
    "\n",
    "epochs = 1\n",
    "warmup_steps = int(len(loader) * epochs * 0.1)\n",
    "\n",
    "model.fit(\n",
    "    train_objectives=[(loader, loss)],\n",
    "    epochs=epochs,\n",
    "    warmup_steps=warmup_steps,\n",
    "    output_path='./finetune_test_mnr',\n",
    "    show_progress_bar=False\n",
    ") \n",
    "\n"
   ]
  },
  {
   "cell_type": "code",
   "execution_count": null,
   "metadata": {},
   "outputs": [],
   "source": []
  }
 ],
 "metadata": {
  "kernelspec": {
   "display_name": "Python 3.9.13 ('base')",
   "language": "python",
   "name": "python3"
  },
  "language_info": {
   "codemirror_mode": {
    "name": "ipython",
    "version": 3
   },
   "file_extension": ".py",
   "mimetype": "text/x-python",
   "name": "python",
   "nbconvert_exporter": "python",
   "pygments_lexer": "ipython3",
   "version": "3.9.13"
  },
  "vscode": {
   "interpreter": {
    "hash": "9ce51b511e31678062ea377e4f294f92e7c7692784d9643ac534d9eb5246e9c5"
   }
  }
 },
 "nbformat": 4,
 "nbformat_minor": 4
}
