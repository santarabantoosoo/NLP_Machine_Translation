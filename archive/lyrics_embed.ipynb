{
 "cells": [
  {
   "cell_type": "code",
   "execution_count": null,
   "metadata": {},
   "outputs": [],
   "source": [
    "from sentence_transformers import SentenceTransformer\n",
    "import pandas as pd\n",
    "import numpy as np"
   ]
  },
  {
   "cell_type": "code",
   "execution_count": null,
   "metadata": {},
   "outputs": [],
   "source": [
    "model = SentenceTransformer('all-MiniLM-L12-v2')"
   ]
  },
  {
   "cell_type": "code",
   "execution_count": null,
   "metadata": {},
   "outputs": [],
   "source": [
    "sds = pd.read_csv(\"data/small_dataset.csv\")"
   ]
  },
  {
   "cell_type": "code",
   "execution_count": null,
   "metadata": {},
   "outputs": [],
   "source": [
    "embeddings = model.encode(sds['lyrics'])"
   ]
  },
  {
   "cell_type": "code",
   "execution_count": null,
   "metadata": {},
   "outputs": [
    {
     "data": {
      "text/plain": [
       "array([[-1.31038964e-01,  1.82835609e-02, -3.78568582e-02, ...,\n",
       "         6.01930224e-05,  2.52264198e-02, -1.38734495e-02],\n",
       "       [-5.06527498e-02,  3.69102024e-02,  1.98155567e-02, ...,\n",
       "         4.73509207e-02,  1.69067178e-02,  1.62009802e-02],\n",
       "       [-5.76839410e-02,  4.75641787e-02,  1.90364628e-03, ...,\n",
       "         8.02092180e-02,  5.36910538e-03, -5.62414564e-02],\n",
       "       ...,\n",
       "       [-5.58314333e-03,  1.10310338e-01, -3.39260958e-02, ...,\n",
       "         7.67268389e-02,  3.38497083e-03, -3.25751267e-02],\n",
       "       [-4.95762657e-03, -5.17929643e-02,  1.16702043e-01, ...,\n",
       "         4.69979048e-02, -5.37207872e-02,  1.70569289e-02],\n",
       "       [ 3.40427319e-03,  6.75700605e-02,  6.94579706e-02, ...,\n",
       "        -4.65298779e-02,  3.38704437e-02,  1.26633956e-03]], dtype=float32)"
      ]
     },
     "execution_count": null,
     "metadata": {},
     "output_type": "execute_result"
    }
   ],
   "source": [
    "embeddings"
   ]
  },
  {
   "cell_type": "code",
   "execution_count": null,
   "metadata": {},
   "outputs": [],
   "source": [
    "sds['embeddings'] = list(embeddings)"
   ]
  },
  {
   "cell_type": "code",
   "execution_count": null,
   "metadata": {},
   "outputs": [],
   "source": [
    "def cosine_similarity(v1, v2):\n",
    "    d = np.dot(v1, v2)\n",
    "    cos_theta = d / (np.linalg.norm(v1) * np.linalg.norm(v2))\n",
    "    return(cos_theta)"
   ]
  },
  {
   "cell_type": "code",
   "execution_count": null,
   "metadata": {},
   "outputs": [],
   "source": [
    "def relevance_scores(query_embed):\n",
    "    scores = [cosine_similarity(query_embed, v2) for v2 in sds['embeddings']]\n",
    "    scores = pd.Series(scores)\n",
    "    return(scores)"
   ]
  },
  {
   "cell_type": "code",
   "execution_count": null,
   "metadata": {},
   "outputs": [],
   "source": [
    "def semantic_search(query_sentence, df = sds, return_top = False):\n",
    "    query_embed = model.encode(query_sentence)\n",
    "    scores = relevance_scores(query_embed)\n",
    "    df['scores'] = scores\n",
    "    sorted_df = df.sort_values(by = 'scores', ascending = False)\n",
    "    if return_top == False:\n",
    "        return sorted_df[['title','artist','lyrics','scores']]\n",
    "    else:\n",
    "        return sorted_df.iloc[0]['lyrics']"
   ]
  },
  {
   "cell_type": "code",
   "execution_count": null,
   "metadata": {},
   "outputs": [
    {
     "data": {
      "text/html": [
       "<div>\n",
       "<style scoped>\n",
       "    .dataframe tbody tr th:only-of-type {\n",
       "        vertical-align: middle;\n",
       "    }\n",
       "\n",
       "    .dataframe tbody tr th {\n",
       "        vertical-align: top;\n",
       "    }\n",
       "\n",
       "    .dataframe thead th {\n",
       "        text-align: right;\n",
       "    }\n",
       "</style>\n",
       "<table border=\"1\" class=\"dataframe\">\n",
       "  <thead>\n",
       "    <tr style=\"text-align: right;\">\n",
       "      <th></th>\n",
       "      <th>title</th>\n",
       "      <th>artist</th>\n",
       "      <th>lyrics</th>\n",
       "      <th>scores</th>\n",
       "    </tr>\n",
       "  </thead>\n",
       "  <tbody>\n",
       "    <tr>\n",
       "      <th>1313</th>\n",
       "      <td>​happier</td>\n",
       "      <td>Olivia Rodrigo</td>\n",
       "      <td>\\nWe broke up a month ago\\nYour friends are mi...</td>\n",
       "      <td>0.401395</td>\n",
       "    </tr>\n",
       "    <tr>\n",
       "      <th>694</th>\n",
       "      <td>Let Me Love You</td>\n",
       "      <td>Ariana Grande</td>\n",
       "      <td>\\nI just broke up with my ex\\nNow I'm out here...</td>\n",
       "      <td>0.395182</td>\n",
       "    </tr>\n",
       "    <tr>\n",
       "      <th>1375</th>\n",
       "      <td>​good 4 u</td>\n",
       "      <td>Olivia Rodrigo</td>\n",
       "      <td>\\n(Ah)\\n\\n\\nWell, good for you, I guess you mo...</td>\n",
       "      <td>0.389521</td>\n",
       "    </tr>\n",
       "    <tr>\n",
       "      <th>821</th>\n",
       "      <td>Scared to Be Lonely</td>\n",
       "      <td>Martin Garrix &amp; Dua Lipa</td>\n",
       "      <td>\\nIt was great at the very start\\nHands on eac...</td>\n",
       "      <td>0.388319</td>\n",
       "    </tr>\n",
       "    <tr>\n",
       "      <th>954</th>\n",
       "      <td>Praying</td>\n",
       "      <td>Kesha</td>\n",
       "      <td>\\nWell, you almost had me fooled\\nTold me that...</td>\n",
       "      <td>0.357559</td>\n",
       "    </tr>\n",
       "    <tr>\n",
       "      <th>...</th>\n",
       "      <td>...</td>\n",
       "      <td>...</td>\n",
       "      <td>...</td>\n",
       "      <td>...</td>\n",
       "    </tr>\n",
       "    <tr>\n",
       "      <th>504</th>\n",
       "      <td>The Blacker the Berry</td>\n",
       "      <td>Kendrick Lamar</td>\n",
       "      <td>\\nEverything black, I don't want black (They w...</td>\n",
       "      <td>-0.054732</td>\n",
       "    </tr>\n",
       "    <tr>\n",
       "      <th>1158</th>\n",
       "      <td>​you should see me in a crown</td>\n",
       "      <td>Billie Eilish</td>\n",
       "      <td>\\nBite my tongue, bide my time\\nWearing a warn...</td>\n",
       "      <td>-0.055469</td>\n",
       "    </tr>\n",
       "    <tr>\n",
       "      <th>23</th>\n",
       "      <td>Through the Wire</td>\n",
       "      <td>Kanye West</td>\n",
       "      <td>\\n\\n\\nLast October Grammy-nominated producer K...</td>\n",
       "      <td>-0.062410</td>\n",
       "    </tr>\n",
       "    <tr>\n",
       "      <th>532</th>\n",
       "      <td>Institutionalized</td>\n",
       "      <td>Kendrick Lamar</td>\n",
       "      <td>\\n\\n\\nWhat money got to do with it\\nWhen I don...</td>\n",
       "      <td>-0.067968</td>\n",
       "    </tr>\n",
       "    <tr>\n",
       "      <th>1311</th>\n",
       "      <td>Toosie Slide</td>\n",
       "      <td>Drake</td>\n",
       "      <td>\\nBlack leather glove, no sequins\\nBuckles on ...</td>\n",
       "      <td>-0.068242</td>\n",
       "    </tr>\n",
       "  </tbody>\n",
       "</table>\n",
       "<p>1396 rows × 4 columns</p>\n",
       "</div>"
      ],
      "text/plain": [
       "                              title                    artist  \\\n",
       "1313                       ​happier            Olivia Rodrigo   \n",
       "694                 Let Me Love You             Ariana Grande   \n",
       "1375                      ​good 4 u            Olivia Rodrigo   \n",
       "821             Scared to Be Lonely  Martin Garrix & Dua Lipa   \n",
       "954                         Praying                     Kesha   \n",
       "...                             ...                       ...   \n",
       "504           The Blacker the Berry            Kendrick Lamar   \n",
       "1158  ​you should see me in a crown             Billie Eilish   \n",
       "23                 Through the Wire                Kanye West   \n",
       "532               Institutionalized            Kendrick Lamar   \n",
       "1311                   Toosie Slide                     Drake   \n",
       "\n",
       "                                                 lyrics    scores  \n",
       "1313  \\nWe broke up a month ago\\nYour friends are mi...  0.401395  \n",
       "694   \\nI just broke up with my ex\\nNow I'm out here...  0.395182  \n",
       "1375  \\n(Ah)\\n\\n\\nWell, good for you, I guess you mo...  0.389521  \n",
       "821   \\nIt was great at the very start\\nHands on eac...  0.388319  \n",
       "954   \\nWell, you almost had me fooled\\nTold me that...  0.357559  \n",
       "...                                                 ...       ...  \n",
       "504   \\nEverything black, I don't want black (They w... -0.054732  \n",
       "1158  \\nBite my tongue, bide my time\\nWearing a warn... -0.055469  \n",
       "23    \\n\\n\\nLast October Grammy-nominated producer K... -0.062410  \n",
       "532   \\n\\n\\nWhat money got to do with it\\nWhen I don... -0.067968  \n",
       "1311  \\nBlack leather glove, no sequins\\nBuckles on ... -0.068242  \n",
       "\n",
       "[1396 rows x 4 columns]"
      ]
     },
     "execution_count": null,
     "metadata": {},
     "output_type": "execute_result"
    }
   ],
   "source": [
    "semantic_search(\"i'm pleased you are doing well after we left each other\")"
   ]
  },
  {
   "cell_type": "code",
   "execution_count": null,
   "metadata": {},
   "outputs": [
    {
     "name": "stdout",
     "output_type": "stream",
     "text": [
      "\n",
      "We broke up a month ago\n",
      "Your friends are mine, you know I know\n",
      "You've moved on, found someone new\n",
      "One more girl who brings out the better in you\n",
      "And I thought my heart was detached\n",
      "From all the sunlight of our past\n",
      "But she's so sweet, she's so pretty\n",
      "Does she mean you forgot about me?\n",
      "\n",
      "\n",
      "Oh, I hope you're happy\n",
      "But not like how you were with me\n",
      "I'm selfish, I know, I can't let you go\n",
      "So find someone great, but don't find no one better\n",
      "I hope you're happy, but don't be happier\n",
      "\n",
      "\n",
      "And do you tell her she's the most beautiful girl you've ever seen?\n",
      "An eternal love bullshit you know you'll never mean\n",
      "Remember when I believed\n",
      "You meant it when you said it first to me?\n",
      "And now I'm pickin' her apart\n",
      "Like cuttin' her down will make you miss my wretched heart\n",
      "But she's beautiful, she looks kind\n",
      "She probably gives you butterflies\n",
      "\n",
      "I hope you're happy\n",
      "But not like how you were with me\n",
      "I'm selfish, I know, I can't let you go\n",
      "So find someone great, but don't find no one better\n",
      "I hope you're happy\n",
      "I wish you all the best, really\n",
      "Say you love her, baby\n",
      "Just not like you loved me\n",
      "And think of me fondly when your hands are on her\n",
      "I hope you're happy, but don't be happier\n",
      "\n",
      "\n",
      "Ooh, ooh-ooh\n",
      "Ooh-ooh, ooh-ooh\n",
      "\n",
      "\n",
      "I hope you're happy\n",
      "Just not like how you were with me\n",
      "I'm selfish, I know, can't let you go\n",
      "So find someone great, but don't find no one better\n",
      "I hope you're happy, but don't be happier\n"
     ]
    }
   ],
   "source": [
    "print(semantic_search(\"i'm pleased you are doing well after we left each other\", return_top = True))"
   ]
  }
 ],
 "metadata": {
  "kernelspec": {
   "display_name": "Python 3.8.5 ('base')",
   "language": "python",
   "name": "python3"
  }
 },
 "nbformat": 4,
 "nbformat_minor": 4
}
